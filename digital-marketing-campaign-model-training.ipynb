{
 "cells": [
  {
   "cell_type": "code",
   "execution_count": 1,
   "id": "ba459ffd",
   "metadata": {
    "_cell_guid": "b1076dfc-b9ad-4769-8c92-a6c4dae69d19",
    "_uuid": "8f2839f25d086af736a60e9eeb907d3b93b6e0e5",
    "execution": {
     "iopub.execute_input": "2024-07-10T10:20:16.521191Z",
     "iopub.status.busy": "2024-07-10T10:20:16.520785Z",
     "iopub.status.idle": "2024-07-10T10:20:17.887115Z",
     "shell.execute_reply": "2024-07-10T10:20:17.885485Z"
    },
    "papermill": {
     "duration": 1.383238,
     "end_time": "2024-07-10T10:20:17.890008",
     "exception": false,
     "start_time": "2024-07-10T10:20:16.506770",
     "status": "completed"
    },
    "tags": []
   },
   "outputs": [
    {
     "name": "stdout",
     "output_type": "stream",
     "text": [
      "/kaggle/input/predict-conversion-in-digital-marketing-dataset/digital_marketing_campaign_dataset.csv\n"
     ]
    }
   ],
   "source": [
    "# This Python 3 environment comes with many helpful analytics libraries installed\n",
    "# It is defined by the kaggle/python Docker image: https://github.com/kaggle/docker-python\n",
    "# For example, here's several helpful packages to load\n",
    "\n",
    "import numpy as np # linear algebra\n",
    "import pandas as pd # data processing, CSV file I/O (e.g. pd.read_csv)\n",
    "\n",
    "# Input data files are available in the read-only \"../input/\" directory\n",
    "# For example, running this (by clicking run or pressing Shift+Enter) will list all files under the input directory\n",
    "\n",
    "import os\n",
    "for dirname, _, filenames in os.walk('/kaggle/input'):\n",
    "    for filename in filenames:\n",
    "        print(os.path.join(dirname, filename))\n",
    "\n",
    "# You can write up to 20GB to the current directory (/kaggle/working/) that gets preserved as output when you create a version using \"Save & Run All\" \n",
    "# You can also write temporary files to /kaggle/temp/, but they won't be saved outside of the current session"
   ]
  },
  {
   "cell_type": "code",
   "execution_count": 2,
   "id": "11ef2c49",
   "metadata": {
    "execution": {
     "iopub.execute_input": "2024-07-10T10:20:17.920092Z",
     "iopub.status.busy": "2024-07-10T10:20:17.919580Z",
     "iopub.status.idle": "2024-07-10T10:20:18.015534Z",
     "shell.execute_reply": "2024-07-10T10:20:18.014025Z"
    },
    "papermill": {
     "duration": 0.113303,
     "end_time": "2024-07-10T10:20:18.018041",
     "exception": false,
     "start_time": "2024-07-10T10:20:17.904738",
     "status": "completed"
    },
    "tags": []
   },
   "outputs": [
    {
     "data": {
      "text/html": [
       "<div>\n",
       "<style scoped>\n",
       "    .dataframe tbody tr th:only-of-type {\n",
       "        vertical-align: middle;\n",
       "    }\n",
       "\n",
       "    .dataframe tbody tr th {\n",
       "        vertical-align: top;\n",
       "    }\n",
       "\n",
       "    .dataframe thead th {\n",
       "        text-align: right;\n",
       "    }\n",
       "</style>\n",
       "<table border=\"1\" class=\"dataframe\">\n",
       "  <thead>\n",
       "    <tr style=\"text-align: right;\">\n",
       "      <th></th>\n",
       "      <th>CustomerID</th>\n",
       "      <th>Age</th>\n",
       "      <th>Gender</th>\n",
       "      <th>Income</th>\n",
       "      <th>CampaignChannel</th>\n",
       "      <th>CampaignType</th>\n",
       "      <th>AdSpend</th>\n",
       "      <th>ClickThroughRate</th>\n",
       "      <th>ConversionRate</th>\n",
       "      <th>WebsiteVisits</th>\n",
       "      <th>PagesPerVisit</th>\n",
       "      <th>TimeOnSite</th>\n",
       "      <th>SocialShares</th>\n",
       "      <th>EmailOpens</th>\n",
       "      <th>EmailClicks</th>\n",
       "      <th>PreviousPurchases</th>\n",
       "      <th>LoyaltyPoints</th>\n",
       "      <th>AdvertisingPlatform</th>\n",
       "      <th>AdvertisingTool</th>\n",
       "      <th>Conversion</th>\n",
       "    </tr>\n",
       "  </thead>\n",
       "  <tbody>\n",
       "    <tr>\n",
       "      <th>0</th>\n",
       "      <td>8000</td>\n",
       "      <td>56</td>\n",
       "      <td>Female</td>\n",
       "      <td>136912</td>\n",
       "      <td>Social Media</td>\n",
       "      <td>Awareness</td>\n",
       "      <td>6497.870068</td>\n",
       "      <td>0.043919</td>\n",
       "      <td>0.088031</td>\n",
       "      <td>0</td>\n",
       "      <td>2.399017</td>\n",
       "      <td>7.396803</td>\n",
       "      <td>19</td>\n",
       "      <td>6</td>\n",
       "      <td>9</td>\n",
       "      <td>4</td>\n",
       "      <td>688</td>\n",
       "      <td>IsConfid</td>\n",
       "      <td>ToolConfid</td>\n",
       "      <td>1</td>\n",
       "    </tr>\n",
       "    <tr>\n",
       "      <th>1</th>\n",
       "      <td>8001</td>\n",
       "      <td>69</td>\n",
       "      <td>Male</td>\n",
       "      <td>41760</td>\n",
       "      <td>Email</td>\n",
       "      <td>Retention</td>\n",
       "      <td>3898.668606</td>\n",
       "      <td>0.155725</td>\n",
       "      <td>0.182725</td>\n",
       "      <td>42</td>\n",
       "      <td>2.917138</td>\n",
       "      <td>5.352549</td>\n",
       "      <td>5</td>\n",
       "      <td>2</td>\n",
       "      <td>7</td>\n",
       "      <td>2</td>\n",
       "      <td>3459</td>\n",
       "      <td>IsConfid</td>\n",
       "      <td>ToolConfid</td>\n",
       "      <td>1</td>\n",
       "    </tr>\n",
       "    <tr>\n",
       "      <th>2</th>\n",
       "      <td>8002</td>\n",
       "      <td>46</td>\n",
       "      <td>Female</td>\n",
       "      <td>88456</td>\n",
       "      <td>PPC</td>\n",
       "      <td>Awareness</td>\n",
       "      <td>1546.429596</td>\n",
       "      <td>0.277490</td>\n",
       "      <td>0.076423</td>\n",
       "      <td>2</td>\n",
       "      <td>8.223619</td>\n",
       "      <td>13.794901</td>\n",
       "      <td>0</td>\n",
       "      <td>11</td>\n",
       "      <td>2</td>\n",
       "      <td>8</td>\n",
       "      <td>2337</td>\n",
       "      <td>IsConfid</td>\n",
       "      <td>ToolConfid</td>\n",
       "      <td>1</td>\n",
       "    </tr>\n",
       "    <tr>\n",
       "      <th>3</th>\n",
       "      <td>8003</td>\n",
       "      <td>32</td>\n",
       "      <td>Female</td>\n",
       "      <td>44085</td>\n",
       "      <td>PPC</td>\n",
       "      <td>Conversion</td>\n",
       "      <td>539.525936</td>\n",
       "      <td>0.137611</td>\n",
       "      <td>0.088004</td>\n",
       "      <td>47</td>\n",
       "      <td>4.540939</td>\n",
       "      <td>14.688363</td>\n",
       "      <td>89</td>\n",
       "      <td>2</td>\n",
       "      <td>2</td>\n",
       "      <td>0</td>\n",
       "      <td>2463</td>\n",
       "      <td>IsConfid</td>\n",
       "      <td>ToolConfid</td>\n",
       "      <td>1</td>\n",
       "    </tr>\n",
       "    <tr>\n",
       "      <th>4</th>\n",
       "      <td>8004</td>\n",
       "      <td>60</td>\n",
       "      <td>Female</td>\n",
       "      <td>83964</td>\n",
       "      <td>PPC</td>\n",
       "      <td>Conversion</td>\n",
       "      <td>1678.043573</td>\n",
       "      <td>0.252851</td>\n",
       "      <td>0.109940</td>\n",
       "      <td>0</td>\n",
       "      <td>2.046847</td>\n",
       "      <td>13.993370</td>\n",
       "      <td>6</td>\n",
       "      <td>6</td>\n",
       "      <td>6</td>\n",
       "      <td>8</td>\n",
       "      <td>4345</td>\n",
       "      <td>IsConfid</td>\n",
       "      <td>ToolConfid</td>\n",
       "      <td>1</td>\n",
       "    </tr>\n",
       "  </tbody>\n",
       "</table>\n",
       "</div>"
      ],
      "text/plain": [
       "   CustomerID  Age  Gender  Income CampaignChannel CampaignType      AdSpend  \\\n",
       "0        8000   56  Female  136912    Social Media    Awareness  6497.870068   \n",
       "1        8001   69    Male   41760           Email    Retention  3898.668606   \n",
       "2        8002   46  Female   88456             PPC    Awareness  1546.429596   \n",
       "3        8003   32  Female   44085             PPC   Conversion   539.525936   \n",
       "4        8004   60  Female   83964             PPC   Conversion  1678.043573   \n",
       "\n",
       "   ClickThroughRate  ConversionRate  WebsiteVisits  PagesPerVisit  TimeOnSite  \\\n",
       "0          0.043919        0.088031              0       2.399017    7.396803   \n",
       "1          0.155725        0.182725             42       2.917138    5.352549   \n",
       "2          0.277490        0.076423              2       8.223619   13.794901   \n",
       "3          0.137611        0.088004             47       4.540939   14.688363   \n",
       "4          0.252851        0.109940              0       2.046847   13.993370   \n",
       "\n",
       "   SocialShares  EmailOpens  EmailClicks  PreviousPurchases  LoyaltyPoints  \\\n",
       "0            19           6            9                  4            688   \n",
       "1             5           2            7                  2           3459   \n",
       "2             0          11            2                  8           2337   \n",
       "3            89           2            2                  0           2463   \n",
       "4             6           6            6                  8           4345   \n",
       "\n",
       "  AdvertisingPlatform AdvertisingTool  Conversion  \n",
       "0            IsConfid      ToolConfid           1  \n",
       "1            IsConfid      ToolConfid           1  \n",
       "2            IsConfid      ToolConfid           1  \n",
       "3            IsConfid      ToolConfid           1  \n",
       "4            IsConfid      ToolConfid           1  "
      ]
     },
     "execution_count": 2,
     "metadata": {},
     "output_type": "execute_result"
    }
   ],
   "source": [
    "df = pd.read_csv('/kaggle/input/predict-conversion-in-digital-marketing-dataset/digital_marketing_campaign_dataset.csv')\n",
    "df.head()"
   ]
  },
  {
   "cell_type": "code",
   "execution_count": 3,
   "id": "8985f81f",
   "metadata": {
    "execution": {
     "iopub.execute_input": "2024-07-10T10:20:18.043866Z",
     "iopub.status.busy": "2024-07-10T10:20:18.043457Z",
     "iopub.status.idle": "2024-07-10T10:20:18.080126Z",
     "shell.execute_reply": "2024-07-10T10:20:18.078581Z"
    },
    "papermill": {
     "duration": 0.053002,
     "end_time": "2024-07-10T10:20:18.082762",
     "exception": false,
     "start_time": "2024-07-10T10:20:18.029760",
     "status": "completed"
    },
    "tags": []
   },
   "outputs": [
    {
     "name": "stdout",
     "output_type": "stream",
     "text": [
      "<class 'pandas.core.frame.DataFrame'>\n",
      "RangeIndex: 8000 entries, 0 to 7999\n",
      "Data columns (total 20 columns):\n",
      " #   Column               Non-Null Count  Dtype  \n",
      "---  ------               --------------  -----  \n",
      " 0   CustomerID           8000 non-null   int64  \n",
      " 1   Age                  8000 non-null   int64  \n",
      " 2   Gender               8000 non-null   object \n",
      " 3   Income               8000 non-null   int64  \n",
      " 4   CampaignChannel      8000 non-null   object \n",
      " 5   CampaignType         8000 non-null   object \n",
      " 6   AdSpend              8000 non-null   float64\n",
      " 7   ClickThroughRate     8000 non-null   float64\n",
      " 8   ConversionRate       8000 non-null   float64\n",
      " 9   WebsiteVisits        8000 non-null   int64  \n",
      " 10  PagesPerVisit        8000 non-null   float64\n",
      " 11  TimeOnSite           8000 non-null   float64\n",
      " 12  SocialShares         8000 non-null   int64  \n",
      " 13  EmailOpens           8000 non-null   int64  \n",
      " 14  EmailClicks          8000 non-null   int64  \n",
      " 15  PreviousPurchases    8000 non-null   int64  \n",
      " 16  LoyaltyPoints        8000 non-null   int64  \n",
      " 17  AdvertisingPlatform  8000 non-null   object \n",
      " 18  AdvertisingTool      8000 non-null   object \n",
      " 19  Conversion           8000 non-null   int64  \n",
      "dtypes: float64(5), int64(10), object(5)\n",
      "memory usage: 1.2+ MB\n"
     ]
    }
   ],
   "source": [
    "df.info()"
   ]
  },
  {
   "cell_type": "code",
   "execution_count": 4,
   "id": "8c3e4da1",
   "metadata": {
    "execution": {
     "iopub.execute_input": "2024-07-10T10:20:18.111804Z",
     "iopub.status.busy": "2024-07-10T10:20:18.110765Z",
     "iopub.status.idle": "2024-07-10T10:20:18.175995Z",
     "shell.execute_reply": "2024-07-10T10:20:18.174663Z"
    },
    "papermill": {
     "duration": 0.083477,
     "end_time": "2024-07-10T10:20:18.180053",
     "exception": false,
     "start_time": "2024-07-10T10:20:18.096576",
     "status": "completed"
    },
    "tags": []
   },
   "outputs": [
    {
     "data": {
      "text/html": [
       "<div>\n",
       "<style scoped>\n",
       "    .dataframe tbody tr th:only-of-type {\n",
       "        vertical-align: middle;\n",
       "    }\n",
       "\n",
       "    .dataframe tbody tr th {\n",
       "        vertical-align: top;\n",
       "    }\n",
       "\n",
       "    .dataframe thead th {\n",
       "        text-align: right;\n",
       "    }\n",
       "</style>\n",
       "<table border=\"1\" class=\"dataframe\">\n",
       "  <thead>\n",
       "    <tr style=\"text-align: right;\">\n",
       "      <th></th>\n",
       "      <th>CustomerID</th>\n",
       "      <th>Age</th>\n",
       "      <th>Income</th>\n",
       "      <th>AdSpend</th>\n",
       "      <th>ClickThroughRate</th>\n",
       "      <th>ConversionRate</th>\n",
       "      <th>WebsiteVisits</th>\n",
       "      <th>PagesPerVisit</th>\n",
       "      <th>TimeOnSite</th>\n",
       "      <th>SocialShares</th>\n",
       "      <th>EmailOpens</th>\n",
       "      <th>EmailClicks</th>\n",
       "      <th>PreviousPurchases</th>\n",
       "      <th>LoyaltyPoints</th>\n",
       "      <th>Conversion</th>\n",
       "    </tr>\n",
       "  </thead>\n",
       "  <tbody>\n",
       "    <tr>\n",
       "      <th>count</th>\n",
       "      <td>8000.00000</td>\n",
       "      <td>8000.000000</td>\n",
       "      <td>8000.000000</td>\n",
       "      <td>8000.000000</td>\n",
       "      <td>8000.000000</td>\n",
       "      <td>8000.000000</td>\n",
       "      <td>8000.000000</td>\n",
       "      <td>8000.000000</td>\n",
       "      <td>8000.000000</td>\n",
       "      <td>8000.000000</td>\n",
       "      <td>8000.000000</td>\n",
       "      <td>8000.000000</td>\n",
       "      <td>8000.000000</td>\n",
       "      <td>8000.000000</td>\n",
       "      <td>8000.000000</td>\n",
       "    </tr>\n",
       "    <tr>\n",
       "      <th>mean</th>\n",
       "      <td>11999.50000</td>\n",
       "      <td>43.625500</td>\n",
       "      <td>84664.196750</td>\n",
       "      <td>5000.944830</td>\n",
       "      <td>0.154829</td>\n",
       "      <td>0.104389</td>\n",
       "      <td>24.751625</td>\n",
       "      <td>5.549299</td>\n",
       "      <td>7.727718</td>\n",
       "      <td>49.799750</td>\n",
       "      <td>9.476875</td>\n",
       "      <td>4.467375</td>\n",
       "      <td>4.485500</td>\n",
       "      <td>2490.268500</td>\n",
       "      <td>0.876500</td>\n",
       "    </tr>\n",
       "    <tr>\n",
       "      <th>std</th>\n",
       "      <td>2309.54541</td>\n",
       "      <td>14.902785</td>\n",
       "      <td>37580.387945</td>\n",
       "      <td>2838.038153</td>\n",
       "      <td>0.084007</td>\n",
       "      <td>0.054878</td>\n",
       "      <td>14.312269</td>\n",
       "      <td>2.607358</td>\n",
       "      <td>4.228218</td>\n",
       "      <td>28.901165</td>\n",
       "      <td>5.711111</td>\n",
       "      <td>2.856564</td>\n",
       "      <td>2.888093</td>\n",
       "      <td>1429.527162</td>\n",
       "      <td>0.329031</td>\n",
       "    </tr>\n",
       "    <tr>\n",
       "      <th>min</th>\n",
       "      <td>8000.00000</td>\n",
       "      <td>18.000000</td>\n",
       "      <td>20014.000000</td>\n",
       "      <td>100.054813</td>\n",
       "      <td>0.010005</td>\n",
       "      <td>0.010018</td>\n",
       "      <td>0.000000</td>\n",
       "      <td>1.000428</td>\n",
       "      <td>0.501669</td>\n",
       "      <td>0.000000</td>\n",
       "      <td>0.000000</td>\n",
       "      <td>0.000000</td>\n",
       "      <td>0.000000</td>\n",
       "      <td>0.000000</td>\n",
       "      <td>0.000000</td>\n",
       "    </tr>\n",
       "    <tr>\n",
       "      <th>25%</th>\n",
       "      <td>9999.75000</td>\n",
       "      <td>31.000000</td>\n",
       "      <td>51744.500000</td>\n",
       "      <td>2523.221165</td>\n",
       "      <td>0.082635</td>\n",
       "      <td>0.056410</td>\n",
       "      <td>13.000000</td>\n",
       "      <td>3.302479</td>\n",
       "      <td>4.068340</td>\n",
       "      <td>25.000000</td>\n",
       "      <td>5.000000</td>\n",
       "      <td>2.000000</td>\n",
       "      <td>2.000000</td>\n",
       "      <td>1254.750000</td>\n",
       "      <td>1.000000</td>\n",
       "    </tr>\n",
       "    <tr>\n",
       "      <th>50%</th>\n",
       "      <td>11999.50000</td>\n",
       "      <td>43.000000</td>\n",
       "      <td>84926.500000</td>\n",
       "      <td>5013.440044</td>\n",
       "      <td>0.154505</td>\n",
       "      <td>0.104046</td>\n",
       "      <td>25.000000</td>\n",
       "      <td>5.534257</td>\n",
       "      <td>7.682956</td>\n",
       "      <td>50.000000</td>\n",
       "      <td>9.000000</td>\n",
       "      <td>4.000000</td>\n",
       "      <td>4.000000</td>\n",
       "      <td>2497.000000</td>\n",
       "      <td>1.000000</td>\n",
       "    </tr>\n",
       "    <tr>\n",
       "      <th>75%</th>\n",
       "      <td>13999.25000</td>\n",
       "      <td>56.000000</td>\n",
       "      <td>116815.750000</td>\n",
       "      <td>7407.989369</td>\n",
       "      <td>0.228207</td>\n",
       "      <td>0.152077</td>\n",
       "      <td>37.000000</td>\n",
       "      <td>7.835756</td>\n",
       "      <td>11.481468</td>\n",
       "      <td>75.000000</td>\n",
       "      <td>14.000000</td>\n",
       "      <td>7.000000</td>\n",
       "      <td>7.000000</td>\n",
       "      <td>3702.250000</td>\n",
       "      <td>1.000000</td>\n",
       "    </tr>\n",
       "    <tr>\n",
       "      <th>max</th>\n",
       "      <td>15999.00000</td>\n",
       "      <td>69.000000</td>\n",
       "      <td>149986.000000</td>\n",
       "      <td>9997.914781</td>\n",
       "      <td>0.299968</td>\n",
       "      <td>0.199995</td>\n",
       "      <td>49.000000</td>\n",
       "      <td>9.999055</td>\n",
       "      <td>14.995311</td>\n",
       "      <td>99.000000</td>\n",
       "      <td>19.000000</td>\n",
       "      <td>9.000000</td>\n",
       "      <td>9.000000</td>\n",
       "      <td>4999.000000</td>\n",
       "      <td>1.000000</td>\n",
       "    </tr>\n",
       "  </tbody>\n",
       "</table>\n",
       "</div>"
      ],
      "text/plain": [
       "        CustomerID          Age         Income      AdSpend  ClickThroughRate  \\\n",
       "count   8000.00000  8000.000000    8000.000000  8000.000000       8000.000000   \n",
       "mean   11999.50000    43.625500   84664.196750  5000.944830          0.154829   \n",
       "std     2309.54541    14.902785   37580.387945  2838.038153          0.084007   \n",
       "min     8000.00000    18.000000   20014.000000   100.054813          0.010005   \n",
       "25%     9999.75000    31.000000   51744.500000  2523.221165          0.082635   \n",
       "50%    11999.50000    43.000000   84926.500000  5013.440044          0.154505   \n",
       "75%    13999.25000    56.000000  116815.750000  7407.989369          0.228207   \n",
       "max    15999.00000    69.000000  149986.000000  9997.914781          0.299968   \n",
       "\n",
       "       ConversionRate  WebsiteVisits  PagesPerVisit   TimeOnSite  \\\n",
       "count     8000.000000    8000.000000    8000.000000  8000.000000   \n",
       "mean         0.104389      24.751625       5.549299     7.727718   \n",
       "std          0.054878      14.312269       2.607358     4.228218   \n",
       "min          0.010018       0.000000       1.000428     0.501669   \n",
       "25%          0.056410      13.000000       3.302479     4.068340   \n",
       "50%          0.104046      25.000000       5.534257     7.682956   \n",
       "75%          0.152077      37.000000       7.835756    11.481468   \n",
       "max          0.199995      49.000000       9.999055    14.995311   \n",
       "\n",
       "       SocialShares   EmailOpens  EmailClicks  PreviousPurchases  \\\n",
       "count   8000.000000  8000.000000  8000.000000        8000.000000   \n",
       "mean      49.799750     9.476875     4.467375           4.485500   \n",
       "std       28.901165     5.711111     2.856564           2.888093   \n",
       "min        0.000000     0.000000     0.000000           0.000000   \n",
       "25%       25.000000     5.000000     2.000000           2.000000   \n",
       "50%       50.000000     9.000000     4.000000           4.000000   \n",
       "75%       75.000000    14.000000     7.000000           7.000000   \n",
       "max       99.000000    19.000000     9.000000           9.000000   \n",
       "\n",
       "       LoyaltyPoints   Conversion  \n",
       "count    8000.000000  8000.000000  \n",
       "mean     2490.268500     0.876500  \n",
       "std      1429.527162     0.329031  \n",
       "min         0.000000     0.000000  \n",
       "25%      1254.750000     1.000000  \n",
       "50%      2497.000000     1.000000  \n",
       "75%      3702.250000     1.000000  \n",
       "max      4999.000000     1.000000  "
      ]
     },
     "execution_count": 4,
     "metadata": {},
     "output_type": "execute_result"
    }
   ],
   "source": [
    "df.describe()"
   ]
  },
  {
   "cell_type": "code",
   "execution_count": 5,
   "id": "a9ef1355",
   "metadata": {
    "execution": {
     "iopub.execute_input": "2024-07-10T10:20:18.208488Z",
     "iopub.status.busy": "2024-07-10T10:20:18.208124Z",
     "iopub.status.idle": "2024-07-10T10:20:18.213142Z",
     "shell.execute_reply": "2024-07-10T10:20:18.211883Z"
    },
    "papermill": {
     "duration": 0.022114,
     "end_time": "2024-07-10T10:20:18.215770",
     "exception": false,
     "start_time": "2024-07-10T10:20:18.193656",
     "status": "completed"
    },
    "tags": []
   },
   "outputs": [],
   "source": [
    "import matplotlib.pyplot as plt"
   ]
  },
  {
   "cell_type": "code",
   "execution_count": 6,
   "id": "4a504faa",
   "metadata": {
    "execution": {
     "iopub.execute_input": "2024-07-10T10:20:18.245678Z",
     "iopub.status.busy": "2024-07-10T10:20:18.244522Z",
     "iopub.status.idle": "2024-07-10T10:20:18.619335Z",
     "shell.execute_reply": "2024-07-10T10:20:18.618166Z"
    },
    "papermill": {
     "duration": 0.393223,
     "end_time": "2024-07-10T10:20:18.622203",
     "exception": false,
     "start_time": "2024-07-10T10:20:18.228980",
     "status": "completed"
    },
    "tags": []
   },
   "outputs": [
    {
     "data": {
      "image/png": "[encoded data removed]",
      "text/plain": [
       "<Figure size 640x480 with 1 Axes>"
      ]
     },
     "metadata": {},
     "output_type": "display_data"
    }
   ],
   "source": [
    "plt.title('Pair Plots')\n",
    "plt.hist(df.Age,bins=50)\n",
    "plt.show()"
   ]
  },
  {
   "cell_type": "code",
   "execution_count": 7,
   "id": "dfe6ba6e",
   "metadata": {
    "execution": {
     "iopub.execute_input": "2024-07-10T10:20:18.649964Z",
     "iopub.status.busy": "2024-07-10T10:20:18.649564Z",
     "iopub.status.idle": "2024-07-10T10:20:18.955134Z",
     "shell.execute_reply": "2024-07-10T10:20:18.953952Z"
    },
    "papermill": {
     "duration": 0.322869,
     "end_time": "2024-07-10T10:20:18.958112",
     "exception": false,
     "start_time": "2024-07-10T10:20:18.635243",
     "status": "completed"
    },
    "tags": []
   },
   "outputs": [
    {
     "data": {
      "image/png": "[encoded data removed]",
      "text/plain": [
       "<Figure size 640x480 with 1 Axes>"
      ]
     },
     "metadata": {},
     "output_type": "display_data"
    }
   ],
   "source": [
    "plt.scatter(df.Age,df.Income)\n",
    "plt.xlabel('Age')\n",
    "plt.ylabel('Income')\n",
    "plt.show()"
   ]
  },
  {
   "cell_type": "code",
   "execution_count": 8,
   "id": "0517da69",
   "metadata": {
    "execution": {
     "iopub.execute_input": "2024-07-10T10:20:18.989568Z",
     "iopub.status.busy": "2024-07-10T10:20:18.989190Z",
     "iopub.status.idle": "2024-07-10T10:20:19.001998Z",
     "shell.execute_reply": "2024-07-10T10:20:19.000743Z"
    },
    "papermill": {
     "duration": 0.0313,
     "end_time": "2024-07-10T10:20:19.004544",
     "exception": false,
     "start_time": "2024-07-10T10:20:18.973244",
     "status": "completed"
    },
    "tags": []
   },
   "outputs": [
    {
     "data": {
      "text/plain": [
       "CustomerID             0\n",
       "Age                    0\n",
       "Gender                 0\n",
       "Income                 0\n",
       "CampaignChannel        0\n",
       "CampaignType           0\n",
       "AdSpend                0\n",
       "ClickThroughRate       0\n",
       "ConversionRate         0\n",
       "WebsiteVisits          0\n",
       "PagesPerVisit          0\n",
       "TimeOnSite             0\n",
       "SocialShares           0\n",
       "EmailOpens             0\n",
       "EmailClicks            0\n",
       "PreviousPurchases      0\n",
       "LoyaltyPoints          0\n",
       "AdvertisingPlatform    0\n",
       "AdvertisingTool        0\n",
       "Conversion             0\n",
       "dtype: int64"
      ]
     },
     "execution_count": 8,
     "metadata": {},
     "output_type": "execute_result"
    }
   ],
   "source": [
    "df.isna().sum()"
   ]
  },
  {
   "cell_type": "code",
   "execution_count": 9,
   "id": "20845bc7",
   "metadata": {
    "execution": {
     "iopub.execute_input": "2024-07-10T10:20:19.035052Z",
     "iopub.status.busy": "2024-07-10T10:20:19.034689Z",
     "iopub.status.idle": "2024-07-10T10:20:19.058623Z",
     "shell.execute_reply": "2024-07-10T10:20:19.056661Z"
    },
    "papermill": {
     "duration": 0.042776,
     "end_time": "2024-07-10T10:20:19.061553",
     "exception": false,
     "start_time": "2024-07-10T10:20:19.018777",
     "status": "completed"
    },
    "tags": []
   },
   "outputs": [
    {
     "data": {
      "text/html": [
       "<div>\n",
       "<style scoped>\n",
       "    .dataframe tbody tr th:only-of-type {\n",
       "        vertical-align: middle;\n",
       "    }\n",
       "\n",
       "    .dataframe tbody tr th {\n",
       "        vertical-align: top;\n",
       "    }\n",
       "\n",
       "    .dataframe thead th {\n",
       "        text-align: right;\n",
       "    }\n",
       "</style>\n",
       "<table border=\"1\" class=\"dataframe\">\n",
       "  <thead>\n",
       "    <tr style=\"text-align: right;\">\n",
       "      <th></th>\n",
       "      <th>CustomerID</th>\n",
       "      <th>Age</th>\n",
       "      <th>Gender</th>\n",
       "      <th>Income</th>\n",
       "      <th>CampaignChannel</th>\n",
       "      <th>CampaignType</th>\n",
       "      <th>AdSpend</th>\n",
       "      <th>ClickThroughRate</th>\n",
       "      <th>ConversionRate</th>\n",
       "      <th>WebsiteVisits</th>\n",
       "      <th>PagesPerVisit</th>\n",
       "      <th>TimeOnSite</th>\n",
       "      <th>SocialShares</th>\n",
       "      <th>EmailOpens</th>\n",
       "      <th>EmailClicks</th>\n",
       "      <th>PreviousPurchases</th>\n",
       "      <th>LoyaltyPoints</th>\n",
       "      <th>AdvertisingPlatform</th>\n",
       "      <th>AdvertisingTool</th>\n",
       "      <th>Conversion</th>\n",
       "    </tr>\n",
       "  </thead>\n",
       "  <tbody>\n",
       "    <tr>\n",
       "      <th>0</th>\n",
       "      <td>8000</td>\n",
       "      <td>56</td>\n",
       "      <td>Female</td>\n",
       "      <td>136912</td>\n",
       "      <td>Social Media</td>\n",
       "      <td>Awareness</td>\n",
       "      <td>6497.870068</td>\n",
       "      <td>0.043919</td>\n",
       "      <td>0.088031</td>\n",
       "      <td>0</td>\n",
       "      <td>2.399017</td>\n",
       "      <td>7.396803</td>\n",
       "      <td>19</td>\n",
       "      <td>6</td>\n",
       "      <td>9</td>\n",
       "      <td>4</td>\n",
       "      <td>688</td>\n",
       "      <td>IsConfid</td>\n",
       "      <td>ToolConfid</td>\n",
       "      <td>1</td>\n",
       "    </tr>\n",
       "    <tr>\n",
       "      <th>1</th>\n",
       "      <td>8001</td>\n",
       "      <td>69</td>\n",
       "      <td>Male</td>\n",
       "      <td>41760</td>\n",
       "      <td>Email</td>\n",
       "      <td>Retention</td>\n",
       "      <td>3898.668606</td>\n",
       "      <td>0.155725</td>\n",
       "      <td>0.182725</td>\n",
       "      <td>42</td>\n",
       "      <td>2.917138</td>\n",
       "      <td>5.352549</td>\n",
       "      <td>5</td>\n",
       "      <td>2</td>\n",
       "      <td>7</td>\n",
       "      <td>2</td>\n",
       "      <td>3459</td>\n",
       "      <td>IsConfid</td>\n",
       "      <td>ToolConfid</td>\n",
       "      <td>1</td>\n",
       "    </tr>\n",
       "    <tr>\n",
       "      <th>2</th>\n",
       "      <td>8002</td>\n",
       "      <td>46</td>\n",
       "      <td>Female</td>\n",
       "      <td>88456</td>\n",
       "      <td>PPC</td>\n",
       "      <td>Awareness</td>\n",
       "      <td>1546.429596</td>\n",
       "      <td>0.277490</td>\n",
       "      <td>0.076423</td>\n",
       "      <td>2</td>\n",
       "      <td>8.223619</td>\n",
       "      <td>13.794901</td>\n",
       "      <td>0</td>\n",
       "      <td>11</td>\n",
       "      <td>2</td>\n",
       "      <td>8</td>\n",
       "      <td>2337</td>\n",
       "      <td>IsConfid</td>\n",
       "      <td>ToolConfid</td>\n",
       "      <td>1</td>\n",
       "    </tr>\n",
       "    <tr>\n",
       "      <th>3</th>\n",
       "      <td>8003</td>\n",
       "      <td>32</td>\n",
       "      <td>Female</td>\n",
       "      <td>44085</td>\n",
       "      <td>PPC</td>\n",
       "      <td>Conversion</td>\n",
       "      <td>539.525936</td>\n",
       "      <td>0.137611</td>\n",
       "      <td>0.088004</td>\n",
       "      <td>47</td>\n",
       "      <td>4.540939</td>\n",
       "      <td>14.688363</td>\n",
       "      <td>89</td>\n",
       "      <td>2</td>\n",
       "      <td>2</td>\n",
       "      <td>0</td>\n",
       "      <td>2463</td>\n",
       "      <td>IsConfid</td>\n",
       "      <td>ToolConfid</td>\n",
       "      <td>1</td>\n",
       "    </tr>\n",
       "    <tr>\n",
       "      <th>4</th>\n",
       "      <td>8004</td>\n",
       "      <td>60</td>\n",
       "      <td>Female</td>\n",
       "      <td>83964</td>\n",
       "      <td>PPC</td>\n",
       "      <td>Conversion</td>\n",
       "      <td>1678.043573</td>\n",
       "      <td>0.252851</td>\n",
       "      <td>0.109940</td>\n",
       "      <td>0</td>\n",
       "      <td>2.046847</td>\n",
       "      <td>13.993370</td>\n",
       "      <td>6</td>\n",
       "      <td>6</td>\n",
       "      <td>6</td>\n",
       "      <td>8</td>\n",
       "      <td>4345</td>\n",
       "      <td>IsConfid</td>\n",
       "      <td>ToolConfid</td>\n",
       "      <td>1</td>\n",
       "    </tr>\n",
       "  </tbody>\n",
       "</table>\n",
       "</div>"
      ],
      "text/plain": [
       "   CustomerID  Age  Gender  Income CampaignChannel CampaignType      AdSpend  \\\n",
       "0        8000   56  Female  136912    Social Media    Awareness  6497.870068   \n",
       "1        8001   69    Male   41760           Email    Retention  3898.668606   \n",
       "2        8002   46  Female   88456             PPC    Awareness  1546.429596   \n",
       "3        8003   32  Female   44085             PPC   Conversion   539.525936   \n",
       "4        8004   60  Female   83964             PPC   Conversion  1678.043573   \n",
       "\n",
       "   ClickThroughRate  ConversionRate  WebsiteVisits  PagesPerVisit  TimeOnSite  \\\n",
       "0          0.043919        0.088031              0       2.399017    7.396803   \n",
       "1          0.155725        0.182725             42       2.917138    5.352549   \n",
       "2          0.277490        0.076423              2       8.223619   13.794901   \n",
       "3          0.137611        0.088004             47       4.540939   14.688363   \n",
       "4          0.252851        0.109940              0       2.046847   13.993370   \n",
       "\n",
       "   SocialShares  EmailOpens  EmailClicks  PreviousPurchases  LoyaltyPoints  \\\n",
       "0            19           6            9                  4            688   \n",
       "1             5           2            7                  2           3459   \n",
       "2             0          11            2                  8           2337   \n",
       "3            89           2            2                  0           2463   \n",
       "4             6           6            6                  8           4345   \n",
       "\n",
       "  AdvertisingPlatform AdvertisingTool  Conversion  \n",
       "0            IsConfid      ToolConfid           1  \n",
       "1            IsConfid      ToolConfid           1  \n",
       "2            IsConfid      ToolConfid           1  \n",
       "3            IsConfid      ToolConfid           1  \n",
       "4            IsConfid      ToolConfid           1  "
      ]
     },
     "execution_count": 9,
     "metadata": {},
     "output_type": "execute_result"
    }
   ],
   "source": [
    "df.head()"
   ]
  },
  {
   "cell_type": "code",
   "execution_count": 10,
   "id": "c4cb0ff4",
   "metadata": {
    "execution": {
     "iopub.execute_input": "2024-07-10T10:20:19.096112Z",
     "iopub.status.busy": "2024-07-10T10:20:19.094868Z",
     "iopub.status.idle": "2024-07-10T10:20:19.106583Z",
     "shell.execute_reply": "2024-07-10T10:20:19.105292Z"
    },
    "papermill": {
     "duration": 0.032083,
     "end_time": "2024-07-10T10:20:19.109858",
     "exception": false,
     "start_time": "2024-07-10T10:20:19.077775",
     "status": "completed"
    },
    "tags": []
   },
   "outputs": [
    {
     "data": {
      "text/plain": [
       "array([1, 0])"
      ]
     },
     "execution_count": 10,
     "metadata": {},
     "output_type": "execute_result"
    }
   ],
   "source": [
    "df.Conversion.unique()"
   ]
  },
  {
   "cell_type": "code",
   "execution_count": 11,
   "id": "603352d0",
   "metadata": {
    "execution": {
     "iopub.execute_input": "2024-07-10T10:20:19.146963Z",
     "iopub.status.busy": "2024-07-10T10:20:19.146537Z",
     "iopub.status.idle": "2024-07-10T10:20:19.157007Z",
     "shell.execute_reply": "2024-07-10T10:20:19.155430Z"
    },
    "papermill": {
     "duration": 0.033031,
     "end_time": "2024-07-10T10:20:19.160367",
     "exception": false,
     "start_time": "2024-07-10T10:20:19.127336",
     "status": "completed"
    },
    "tags": []
   },
   "outputs": [
    {
     "data": {
      "text/plain": [
       "array(['IsConfid'], dtype=object)"
      ]
     },
     "execution_count": 11,
     "metadata": {},
     "output_type": "execute_result"
    }
   ],
   "source": [
    "df.AdvertisingPlatform.unique()"
   ]
  },
  {
   "cell_type": "code",
   "execution_count": 12,
   "id": "6d28b4cc",
   "metadata": {
    "execution": {
     "iopub.execute_input": "2024-07-10T10:20:19.196218Z",
     "iopub.status.busy": "2024-07-10T10:20:19.195704Z",
     "iopub.status.idle": "2024-07-10T10:20:19.204989Z",
     "shell.execute_reply": "2024-07-10T10:20:19.203623Z"
    },
    "papermill": {
     "duration": 0.029794,
     "end_time": "2024-07-10T10:20:19.207926",
     "exception": false,
     "start_time": "2024-07-10T10:20:19.178132",
     "status": "completed"
    },
    "tags": []
   },
   "outputs": [
    {
     "data": {
      "text/plain": [
       "array(['ToolConfid'], dtype=object)"
      ]
     },
     "execution_count": 12,
     "metadata": {},
     "output_type": "execute_result"
    }
   ],
   "source": [
    "df.AdvertisingTool.unique()"
   ]
  },
  {
   "cell_type": "code",
   "execution_count": 13,
   "id": "ffcb2c36",
   "metadata": {
    "execution": {
     "iopub.execute_input": "2024-07-10T10:20:19.248478Z",
     "iopub.status.busy": "2024-07-10T10:20:19.247844Z",
     "iopub.status.idle": "2024-07-10T10:20:19.276474Z",
     "shell.execute_reply": "2024-07-10T10:20:19.274754Z"
    },
    "papermill": {
     "duration": 0.05068,
     "end_time": "2024-07-10T10:20:19.279458",
     "exception": false,
     "start_time": "2024-07-10T10:20:19.228778",
     "status": "completed"
    },
    "tags": []
   },
   "outputs": [
    {
     "data": {
      "text/html": [
       "<div>\n",
       "<style scoped>\n",
       "    .dataframe tbody tr th:only-of-type {\n",
       "        vertical-align: middle;\n",
       "    }\n",
       "\n",
       "    .dataframe tbody tr th {\n",
       "        vertical-align: top;\n",
       "    }\n",
       "\n",
       "    .dataframe thead th {\n",
       "        text-align: right;\n",
       "    }\n",
       "</style>\n",
       "<table border=\"1\" class=\"dataframe\">\n",
       "  <thead>\n",
       "    <tr style=\"text-align: right;\">\n",
       "      <th></th>\n",
       "      <th>Age</th>\n",
       "      <th>Gender</th>\n",
       "      <th>Income</th>\n",
       "      <th>CampaignChannel</th>\n",
       "      <th>CampaignType</th>\n",
       "      <th>AdSpend</th>\n",
       "      <th>ClickThroughRate</th>\n",
       "      <th>ConversionRate</th>\n",
       "      <th>WebsiteVisits</th>\n",
       "      <th>PagesPerVisit</th>\n",
       "      <th>TimeOnSite</th>\n",
       "      <th>SocialShares</th>\n",
       "      <th>EmailOpens</th>\n",
       "      <th>EmailClicks</th>\n",
       "      <th>PreviousPurchases</th>\n",
       "      <th>LoyaltyPoints</th>\n",
       "    </tr>\n",
       "  </thead>\n",
       "  <tbody>\n",
       "    <tr>\n",
       "      <th>0</th>\n",
       "      <td>56</td>\n",
       "      <td>Female</td>\n",
       "      <td>136912</td>\n",
       "      <td>Social Media</td>\n",
       "      <td>Awareness</td>\n",
       "      <td>6497.870068</td>\n",
       "      <td>0.043919</td>\n",
       "      <td>0.088031</td>\n",
       "      <td>0</td>\n",
       "      <td>2.399017</td>\n",
       "      <td>7.396803</td>\n",
       "      <td>19</td>\n",
       "      <td>6</td>\n",
       "      <td>9</td>\n",
       "      <td>4</td>\n",
       "      <td>688</td>\n",
       "    </tr>\n",
       "    <tr>\n",
       "      <th>1</th>\n",
       "      <td>69</td>\n",
       "      <td>Male</td>\n",
       "      <td>41760</td>\n",
       "      <td>Email</td>\n",
       "      <td>Retention</td>\n",
       "      <td>3898.668606</td>\n",
       "      <td>0.155725</td>\n",
       "      <td>0.182725</td>\n",
       "      <td>42</td>\n",
       "      <td>2.917138</td>\n",
       "      <td>5.352549</td>\n",
       "      <td>5</td>\n",
       "      <td>2</td>\n",
       "      <td>7</td>\n",
       "      <td>2</td>\n",
       "      <td>3459</td>\n",
       "    </tr>\n",
       "    <tr>\n",
       "      <th>2</th>\n",
       "      <td>46</td>\n",
       "      <td>Female</td>\n",
       "      <td>88456</td>\n",
       "      <td>PPC</td>\n",
       "      <td>Awareness</td>\n",
       "      <td>1546.429596</td>\n",
       "      <td>0.277490</td>\n",
       "      <td>0.076423</td>\n",
       "      <td>2</td>\n",
       "      <td>8.223619</td>\n",
       "      <td>13.794901</td>\n",
       "      <td>0</td>\n",
       "      <td>11</td>\n",
       "      <td>2</td>\n",
       "      <td>8</td>\n",
       "      <td>2337</td>\n",
       "    </tr>\n",
       "    <tr>\n",
       "      <th>3</th>\n",
       "      <td>32</td>\n",
       "      <td>Female</td>\n",
       "      <td>44085</td>\n",
       "      <td>PPC</td>\n",
       "      <td>Conversion</td>\n",
       "      <td>539.525936</td>\n",
       "      <td>0.137611</td>\n",
       "      <td>0.088004</td>\n",
       "      <td>47</td>\n",
       "      <td>4.540939</td>\n",
       "      <td>14.688363</td>\n",
       "      <td>89</td>\n",
       "      <td>2</td>\n",
       "      <td>2</td>\n",
       "      <td>0</td>\n",
       "      <td>2463</td>\n",
       "    </tr>\n",
       "    <tr>\n",
       "      <th>4</th>\n",
       "      <td>60</td>\n",
       "      <td>Female</td>\n",
       "      <td>83964</td>\n",
       "      <td>PPC</td>\n",
       "      <td>Conversion</td>\n",
       "      <td>1678.043573</td>\n",
       "      <td>0.252851</td>\n",
       "      <td>0.109940</td>\n",
       "      <td>0</td>\n",
       "      <td>2.046847</td>\n",
       "      <td>13.993370</td>\n",
       "      <td>6</td>\n",
       "      <td>6</td>\n",
       "      <td>6</td>\n",
       "      <td>8</td>\n",
       "      <td>4345</td>\n",
       "    </tr>\n",
       "  </tbody>\n",
       "</table>\n",
       "</div>"
      ],
      "text/plain": [
       "   Age  Gender  Income CampaignChannel CampaignType      AdSpend  \\\n",
       "0   56  Female  136912    Social Media    Awareness  6497.870068   \n",
       "1   69    Male   41760           Email    Retention  3898.668606   \n",
       "2   46  Female   88456             PPC    Awareness  1546.429596   \n",
       "3   32  Female   44085             PPC   Conversion   539.525936   \n",
       "4   60  Female   83964             PPC   Conversion  1678.043573   \n",
       "\n",
       "   ClickThroughRate  ConversionRate  WebsiteVisits  PagesPerVisit  TimeOnSite  \\\n",
       "0          0.043919        0.088031              0       2.399017    7.396803   \n",
       "1          0.155725        0.182725             42       2.917138    5.352549   \n",
       "2          0.277490        0.076423              2       8.223619   13.794901   \n",
       "3          0.137611        0.088004             47       4.540939   14.688363   \n",
       "4          0.252851        0.109940              0       2.046847   13.993370   \n",
       "\n",
       "   SocialShares  EmailOpens  EmailClicks  PreviousPurchases  LoyaltyPoints  \n",
       "0            19           6            9                  4            688  \n",
       "1             5           2            7                  2           3459  \n",
       "2             0          11            2                  8           2337  \n",
       "3            89           2            2                  0           2463  \n",
       "4             6           6            6                  8           4345  "
      ]
     },
     "execution_count": 13,
     "metadata": {},
     "output_type": "execute_result"
    }
   ],
   "source": [
    "x = df.drop(['CustomerID','AdvertisingPlatform','AdvertisingTool','Conversion'], axis='columns')\n",
    "x.head()"
   ]
  },
  {
   "cell_type": "code",
   "execution_count": 14,
   "id": "32340553",
   "metadata": {
    "execution": {
     "iopub.execute_input": "2024-07-10T10:20:19.315604Z",
     "iopub.status.busy": "2024-07-10T10:20:19.315235Z",
     "iopub.status.idle": "2024-07-10T10:20:19.325592Z",
     "shell.execute_reply": "2024-07-10T10:20:19.324330Z"
    },
    "papermill": {
     "duration": 0.03258,
     "end_time": "2024-07-10T10:20:19.328660",
     "exception": false,
     "start_time": "2024-07-10T10:20:19.296080",
     "status": "completed"
    },
    "tags": []
   },
   "outputs": [
    {
     "data": {
      "text/plain": [
       "0    1\n",
       "1    1\n",
       "2    1\n",
       "3    1\n",
       "4    1\n",
       "Name: Conversion, dtype: int64"
      ]
     },
     "execution_count": 14,
     "metadata": {},
     "output_type": "execute_result"
    }
   ],
   "source": [
    "y = df.Conversion\n",
    "y.head()"
   ]
  },
  {
   "cell_type": "code",
   "execution_count": 15,
   "id": "9f3ad8d6",
   "metadata": {
    "execution": {
     "iopub.execute_input": "2024-07-10T10:20:19.368658Z",
     "iopub.status.busy": "2024-07-10T10:20:19.368045Z",
     "iopub.status.idle": "2024-07-10T10:20:19.383615Z",
     "shell.execute_reply": "2024-07-10T10:20:19.382387Z"
    },
    "papermill": {
     "duration": 0.037678,
     "end_time": "2024-07-10T10:20:19.386412",
     "exception": false,
     "start_time": "2024-07-10T10:20:19.348734",
     "status": "completed"
    },
    "tags": []
   },
   "outputs": [
    {
     "data": {
      "text/plain": [
       "count    8000.000000\n",
       "mean       43.625500\n",
       "std        14.902785\n",
       "min        18.000000\n",
       "25%        31.000000\n",
       "50%        43.000000\n",
       "75%        56.000000\n",
       "max        69.000000\n",
       "Name: Age, dtype: float64"
      ]
     },
     "execution_count": 15,
     "metadata": {},
     "output_type": "execute_result"
    }
   ],
   "source": [
    "x.Age.describe()"
   ]
  },
  {
   "cell_type": "code",
   "execution_count": 16,
   "id": "0f52b589",
   "metadata": {
    "execution": {
     "iopub.execute_input": "2024-07-10T10:20:19.425164Z",
     "iopub.status.busy": "2024-07-10T10:20:19.424796Z",
     "iopub.status.idle": "2024-07-10T10:20:19.433576Z",
     "shell.execute_reply": "2024-07-10T10:20:19.432202Z"
    },
    "papermill": {
     "duration": 0.033103,
     "end_time": "2024-07-10T10:20:19.436789",
     "exception": false,
     "start_time": "2024-07-10T10:20:19.403686",
     "status": "completed"
    },
    "tags": []
   },
   "outputs": [
    {
     "data": {
      "text/plain": [
       "array(['Female', 'Male'], dtype=object)"
      ]
     },
     "execution_count": 16,
     "metadata": {},
     "output_type": "execute_result"
    }
   ],
   "source": [
    "x.Gender.unique()"
   ]
  },
  {
   "cell_type": "code",
   "execution_count": 17,
   "id": "768ec5d0",
   "metadata": {
    "execution": {
     "iopub.execute_input": "2024-07-10T10:20:19.471630Z",
     "iopub.status.busy": "2024-07-10T10:20:19.471274Z",
     "iopub.status.idle": "2024-07-10T10:20:19.484828Z",
     "shell.execute_reply": "2024-07-10T10:20:19.483613Z"
    },
    "papermill": {
     "duration": 0.035177,
     "end_time": "2024-07-10T10:20:19.487778",
     "exception": false,
     "start_time": "2024-07-10T10:20:19.452601",
     "status": "completed"
    },
    "tags": []
   },
   "outputs": [
    {
     "data": {
      "text/plain": [
       "count      8000.000000\n",
       "mean      84664.196750\n",
       "std       37580.387945\n",
       "min       20014.000000\n",
       "25%       51744.500000\n",
       "50%       84926.500000\n",
       "75%      116815.750000\n",
       "max      149986.000000\n",
       "Name: Income, dtype: float64"
      ]
     },
     "execution_count": 17,
     "metadata": {},
     "output_type": "execute_result"
    }
   ],
   "source": [
    "x.Income.describe()"
   ]
  },
  {
   "cell_type": "code",
   "execution_count": 18,
   "id": "d057b27c",
   "metadata": {
    "execution": {
     "iopub.execute_input": "2024-07-10T10:20:19.521776Z",
     "iopub.status.busy": "2024-07-10T10:20:19.521343Z",
     "iopub.status.idle": "2024-07-10T10:20:19.795273Z",
     "shell.execute_reply": "2024-07-10T10:20:19.794107Z"
    },
    "papermill": {
     "duration": 0.293672,
     "end_time": "2024-07-10T10:20:19.797571",
     "exception": false,
     "start_time": "2024-07-10T10:20:19.503899",
     "status": "completed"
    },
    "tags": []
   },
   "outputs": [
    {
     "data": {
      "image/png": "[encoded data removed]",
      "text/plain": [
       "<Figure size 640x480 with 1 Axes>"
      ]
     },
     "metadata": {},
     "output_type": "display_data"
    }
   ],
   "source": [
    "plt.hist(x.Income)\n",
    "plt.show()"
   ]
  },
  {
   "cell_type": "code",
   "execution_count": 19,
   "id": "b857adb7",
   "metadata": {
    "execution": {
     "iopub.execute_input": "2024-07-10T10:20:19.834245Z",
     "iopub.status.busy": "2024-07-10T10:20:19.833697Z",
     "iopub.status.idle": "2024-07-10T10:20:20.018191Z",
     "shell.execute_reply": "2024-07-10T10:20:20.016922Z"
    },
    "papermill": {
     "duration": 0.205456,
     "end_time": "2024-07-10T10:20:20.020458",
     "exception": false,
     "start_time": "2024-07-10T10:20:19.815002",
     "status": "completed"
    },
    "tags": []
   },
   "outputs": [
    {
     "data": {
      "image/png": "[encoded data removed]",
      "text/plain": [
       "<Figure size 640x480 with 1 Axes>"
      ]
     },
     "metadata": {},
     "output_type": "display_data"
    }
   ],
   "source": [
    "plt.boxplot(x.Income)\n",
    "plt.show()"
   ]
  },
  {
   "cell_type": "code",
   "execution_count": 20,
   "id": "58183a96",
   "metadata": {
    "execution": {
     "iopub.execute_input": "2024-07-10T10:20:20.055461Z",
     "iopub.status.busy": "2024-07-10T10:20:20.055006Z",
     "iopub.status.idle": "2024-07-10T10:20:20.063153Z",
     "shell.execute_reply": "2024-07-10T10:20:20.061968Z"
    },
    "papermill": {
     "duration": 0.029512,
     "end_time": "2024-07-10T10:20:20.065798",
     "exception": false,
     "start_time": "2024-07-10T10:20:20.036286",
     "status": "completed"
    },
    "tags": []
   },
   "outputs": [
    {
     "data": {
      "text/plain": [
       "array(['Social Media', 'Email', 'PPC', 'Referral', 'SEO'], dtype=object)"
      ]
     },
     "execution_count": 20,
     "metadata": {},
     "output_type": "execute_result"
    }
   ],
   "source": [
    "x.CampaignChannel.unique()"
   ]
  },
  {
   "cell_type": "code",
   "execution_count": 21,
   "id": "33f19800",
   "metadata": {
    "execution": {
     "iopub.execute_input": "2024-07-10T10:20:20.099975Z",
     "iopub.status.busy": "2024-07-10T10:20:20.099584Z",
     "iopub.status.idle": "2024-07-10T10:20:20.107150Z",
     "shell.execute_reply": "2024-07-10T10:20:20.106121Z"
    },
    "papermill": {
     "duration": 0.028133,
     "end_time": "2024-07-10T10:20:20.109403",
     "exception": false,
     "start_time": "2024-07-10T10:20:20.081270",
     "status": "completed"
    },
    "tags": []
   },
   "outputs": [
    {
     "data": {
      "text/plain": [
       "array(['Awareness', 'Retention', 'Conversion', 'Consideration'],\n",
       "      dtype=object)"
      ]
     },
     "execution_count": 21,
     "metadata": {},
     "output_type": "execute_result"
    }
   ],
   "source": [
    "x.CampaignType.unique()"
   ]
  },
  {
   "cell_type": "code",
   "execution_count": 22,
   "id": "41b24758",
   "metadata": {
    "execution": {
     "iopub.execute_input": "2024-07-10T10:20:20.146602Z",
     "iopub.status.busy": "2024-07-10T10:20:20.146177Z",
     "iopub.status.idle": "2024-07-10T10:20:20.159528Z",
     "shell.execute_reply": "2024-07-10T10:20:20.157561Z"
    },
    "papermill": {
     "duration": 0.037121,
     "end_time": "2024-07-10T10:20:20.162706",
     "exception": false,
     "start_time": "2024-07-10T10:20:20.125585",
     "status": "completed"
    },
    "tags": []
   },
   "outputs": [
    {
     "data": {
      "text/plain": [
       "count    8000.000000\n",
       "mean     5000.944830\n",
       "std      2838.038153\n",
       "min       100.054813\n",
       "25%      2523.221165\n",
       "50%      5013.440044\n",
       "75%      7407.989369\n",
       "max      9997.914781\n",
       "Name: AdSpend, dtype: float64"
      ]
     },
     "execution_count": 22,
     "metadata": {},
     "output_type": "execute_result"
    }
   ],
   "source": [
    "x.AdSpend.describe()"
   ]
  },
  {
   "cell_type": "code",
   "execution_count": 23,
   "id": "1deebdc3",
   "metadata": {
    "execution": {
     "iopub.execute_input": "2024-07-10T10:20:20.198312Z",
     "iopub.status.busy": "2024-07-10T10:20:20.197915Z",
     "iopub.status.idle": "2024-07-10T10:20:20.470400Z",
     "shell.execute_reply": "2024-07-10T10:20:20.468843Z"
    },
    "papermill": {
     "duration": 0.292715,
     "end_time": "2024-07-10T10:20:20.472894",
     "exception": false,
     "start_time": "2024-07-10T10:20:20.180179",
     "status": "completed"
    },
    "tags": []
   },
   "outputs": [
    {
     "data": {
      "image/png": "[encoded data removed]",
      "text/plain": [
       "<Figure size 640x480 with 1 Axes>"
      ]
     },
     "metadata": {},
     "output_type": "display_data"
    }
   ],
   "source": [
    "plt.hist(x.AdSpend, bins=30)\n",
    "plt.show()"
   ]
  },
  {
   "cell_type": "code",
   "execution_count": 24,
   "id": "83c0b18b",
   "metadata": {
    "execution": {
     "iopub.execute_input": "2024-07-10T10:20:20.569442Z",
     "iopub.status.busy": "2024-07-10T10:20:20.568502Z",
     "iopub.status.idle": "2024-07-10T10:20:20.748719Z",
     "shell.execute_reply": "2024-07-10T10:20:20.747097Z"
    },
    "papermill": {
     "duration": 0.20131,
     "end_time": "2024-07-10T10:20:20.751469",
     "exception": false,
     "start_time": "2024-07-10T10:20:20.550159",
     "status": "completed"
    },
    "tags": []
   },
   "outputs": [
    {
     "data": {
      "image/png": "[encoded data removed]",
      "text/plain": [
       "<Figure size 640x480 with 1 Axes>"
      ]
     },
     "metadata": {},
     "output_type": "display_data"
    }
   ],
   "source": [
    "plt.boxplot(df.AdSpend)\n",
    "plt.show()"
   ]
  },
  {
   "cell_type": "code",
   "execution_count": 25,
   "id": "acbb9302",
   "metadata": {
    "execution": {
     "iopub.execute_input": "2024-07-10T10:20:20.794945Z",
     "iopub.status.busy": "2024-07-10T10:20:20.794532Z",
     "iopub.status.idle": "2024-07-10T10:20:21.028979Z",
     "shell.execute_reply": "2024-07-10T10:20:21.026268Z"
    },
    "papermill": {
     "duration": 0.262596,
     "end_time": "2024-07-10T10:20:21.032923",
     "exception": false,
     "start_time": "2024-07-10T10:20:20.770327",
     "status": "completed"
    },
    "tags": []
   },
   "outputs": [
    {
     "data": {
      "text/plain": [
       "{'whiskers': [<matplotlib.lines.Line2D at 0x7a78ea0e0ca0>,\n",
       "  <matplotlib.lines.Line2D at 0x7a78ea0e0e80>],\n",
       " 'caps': [<matplotlib.lines.Line2D at 0x7a78ea0e3220>,\n",
       "  <matplotlib.lines.Line2D at 0x7a78ea0e3250>],\n",
       " 'boxes': [<matplotlib.lines.Line2D at 0x7a78ea0e24a0>],\n",
       " 'medians': [<matplotlib.lines.Line2D at 0x7a78ea0e3ca0>],\n",
       " 'fliers': [<matplotlib.lines.Line2D at 0x7a78ea0e1420>],\n",
       " 'means': []}"
      ]
     },
     "execution_count": 25,
     "metadata": {},
     "output_type": "execute_result"
    },
    {
     "data": {
      "image/png": "[encoded data removed]",
      "text/plain": [
       "<Figure size 640x480 with 1 Axes>"
      ]
     },
     "metadata": {},
     "output_type": "display_data"
    }
   ],
   "source": [
    "plt.boxplot(x.ClickThroughRate)"
   ]
  },
  {
   "cell_type": "code",
   "execution_count": 26,
   "id": "2b1c04e6",
   "metadata": {
    "execution": {
     "iopub.execute_input": "2024-07-10T10:20:21.084433Z",
     "iopub.status.busy": "2024-07-10T10:20:21.083591Z",
     "iopub.status.idle": "2024-07-10T10:20:21.327293Z",
     "shell.execute_reply": "2024-07-10T10:20:21.326161Z"
    },
    "papermill": {
     "duration": 0.27378,
     "end_time": "2024-07-10T10:20:21.330784",
     "exception": false,
     "start_time": "2024-07-10T10:20:21.057004",
     "status": "completed"
    },
    "tags": []
   },
   "outputs": [
    {
     "data": {
      "text/plain": [
       "{'whiskers': [<matplotlib.lines.Line2D at 0x7a78e9f75d20>,\n",
       "  <matplotlib.lines.Line2D at 0x7a78e9f75fc0>],\n",
       " 'caps': [<matplotlib.lines.Line2D at 0x7a78e9f76260>,\n",
       "  <matplotlib.lines.Line2D at 0x7a78e9f76500>],\n",
       " 'boxes': [<matplotlib.lines.Line2D at 0x7a78e9f75a80>],\n",
       " 'medians': [<matplotlib.lines.Line2D at 0x7a78e9f767a0>],\n",
       " 'fliers': [<matplotlib.lines.Line2D at 0x7a78e9f76a40>],\n",
       " 'means': []}"
      ]
     },
     "execution_count": 26,
     "metadata": {},
     "output_type": "execute_result"
    },
    {
     "data": {
      "image/png": "[encoded data removed]",
      "text/plain": [
       "<Figure size 640x480 with 1 Axes>"
      ]
     },
     "metadata": {},
     "output_type": "display_data"
    }
   ],
   "source": [
    "plt.boxplot(x.ConversionRate)"
   ]
  },
  {
   "cell_type": "code",
   "execution_count": 27,
   "id": "c98aa35a",
   "metadata": {
    "execution": {
     "iopub.execute_input": "2024-07-10T10:20:21.379053Z",
     "iopub.status.busy": "2024-07-10T10:20:21.378604Z",
     "iopub.status.idle": "2024-07-10T10:20:21.392512Z",
     "shell.execute_reply": "2024-07-10T10:20:21.390956Z"
    },
    "papermill": {
     "duration": 0.039185,
     "end_time": "2024-07-10T10:20:21.395231",
     "exception": false,
     "start_time": "2024-07-10T10:20:21.356046",
     "status": "completed"
    },
    "tags": []
   },
   "outputs": [
    {
     "data": {
      "text/plain": [
       "count    8000.000000\n",
       "mean       24.751625\n",
       "std        14.312269\n",
       "min         0.000000\n",
       "25%        13.000000\n",
       "50%        25.000000\n",
       "75%        37.000000\n",
       "max        49.000000\n",
       "Name: WebsiteVisits, dtype: float64"
      ]
     },
     "execution_count": 27,
     "metadata": {},
     "output_type": "execute_result"
    }
   ],
   "source": [
    "x.WebsiteVisits.describe()"
   ]
  },
  {
   "cell_type": "code",
   "execution_count": 28,
   "id": "9a942567",
   "metadata": {
    "execution": {
     "iopub.execute_input": "2024-07-10T10:20:21.434419Z",
     "iopub.status.busy": "2024-07-10T10:20:21.433741Z",
     "iopub.status.idle": "2024-07-10T10:20:21.446621Z",
     "shell.execute_reply": "2024-07-10T10:20:21.444675Z"
    },
    "papermill": {
     "duration": 0.035717,
     "end_time": "2024-07-10T10:20:21.449160",
     "exception": false,
     "start_time": "2024-07-10T10:20:21.413443",
     "status": "completed"
    },
    "tags": []
   },
   "outputs": [
    {
     "data": {
      "text/plain": [
       "count    8000.000000\n",
       "mean     2490.268500\n",
       "std      1429.527162\n",
       "min         0.000000\n",
       "25%      1254.750000\n",
       "50%      2497.000000\n",
       "75%      3702.250000\n",
       "max      4999.000000\n",
       "Name: LoyaltyPoints, dtype: float64"
      ]
     },
     "execution_count": 28,
     "metadata": {},
     "output_type": "execute_result"
    }
   ],
   "source": [
    "x.LoyaltyPoints.describe()"
   ]
  },
  {
   "cell_type": "code",
   "execution_count": 29,
   "id": "90bcfa1b",
   "metadata": {
    "execution": {
     "iopub.execute_input": "2024-07-10T10:20:21.488967Z",
     "iopub.status.busy": "2024-07-10T10:20:21.488436Z",
     "iopub.status.idle": "2024-07-10T10:20:21.506863Z",
     "shell.execute_reply": "2024-07-10T10:20:21.505609Z"
    },
    "papermill": {
     "duration": 0.042202,
     "end_time": "2024-07-10T10:20:21.509707",
     "exception": false,
     "start_time": "2024-07-10T10:20:21.467505",
     "status": "completed"
    },
    "tags": []
   },
   "outputs": [
    {
     "data": {
      "text/html": [
       "<div>\n",
       "<style scoped>\n",
       "    .dataframe tbody tr th:only-of-type {\n",
       "        vertical-align: middle;\n",
       "    }\n",
       "\n",
       "    .dataframe tbody tr th {\n",
       "        vertical-align: top;\n",
       "    }\n",
       "\n",
       "    .dataframe thead th {\n",
       "        text-align: right;\n",
       "    }\n",
       "</style>\n",
       "<table border=\"1\" class=\"dataframe\">\n",
       "  <thead>\n",
       "    <tr style=\"text-align: right;\">\n",
       "      <th></th>\n",
       "      <th>Age</th>\n",
       "      <th>Gender</th>\n",
       "      <th>Income</th>\n",
       "      <th>CampaignChannel</th>\n",
       "      <th>CampaignType</th>\n",
       "      <th>AdSpend</th>\n",
       "      <th>ClickThroughRate</th>\n",
       "      <th>ConversionRate</th>\n",
       "      <th>WebsiteVisits</th>\n",
       "      <th>PagesPerVisit</th>\n",
       "      <th>TimeOnSite</th>\n",
       "      <th>SocialShares</th>\n",
       "      <th>EmailOpens</th>\n",
       "      <th>EmailClicks</th>\n",
       "      <th>PreviousPurchases</th>\n",
       "      <th>LoyaltyPoints</th>\n",
       "    </tr>\n",
       "  </thead>\n",
       "  <tbody>\n",
       "    <tr>\n",
       "      <th>0</th>\n",
       "      <td>56</td>\n",
       "      <td>Female</td>\n",
       "      <td>136912</td>\n",
       "      <td>Social Media</td>\n",
       "      <td>Awareness</td>\n",
       "      <td>6497.870068</td>\n",
       "      <td>0.043919</td>\n",
       "      <td>0.088031</td>\n",
       "      <td>0</td>\n",
       "      <td>2.399017</td>\n",
       "      <td>7.396803</td>\n",
       "      <td>19</td>\n",
       "      <td>6</td>\n",
       "      <td>9</td>\n",
       "      <td>4</td>\n",
       "      <td>688</td>\n",
       "    </tr>\n",
       "    <tr>\n",
       "      <th>1</th>\n",
       "      <td>69</td>\n",
       "      <td>Male</td>\n",
       "      <td>41760</td>\n",
       "      <td>Email</td>\n",
       "      <td>Retention</td>\n",
       "      <td>3898.668606</td>\n",
       "      <td>0.155725</td>\n",
       "      <td>0.182725</td>\n",
       "      <td>42</td>\n",
       "      <td>2.917138</td>\n",
       "      <td>5.352549</td>\n",
       "      <td>5</td>\n",
       "      <td>2</td>\n",
       "      <td>7</td>\n",
       "      <td>2</td>\n",
       "      <td>3459</td>\n",
       "    </tr>\n",
       "    <tr>\n",
       "      <th>2</th>\n",
       "      <td>46</td>\n",
       "      <td>Female</td>\n",
       "      <td>88456</td>\n",
       "      <td>PPC</td>\n",
       "      <td>Awareness</td>\n",
       "      <td>1546.429596</td>\n",
       "      <td>0.277490</td>\n",
       "      <td>0.076423</td>\n",
       "      <td>2</td>\n",
       "      <td>8.223619</td>\n",
       "      <td>13.794901</td>\n",
       "      <td>0</td>\n",
       "      <td>11</td>\n",
       "      <td>2</td>\n",
       "      <td>8</td>\n",
       "      <td>2337</td>\n",
       "    </tr>\n",
       "    <tr>\n",
       "      <th>3</th>\n",
       "      <td>32</td>\n",
       "      <td>Female</td>\n",
       "      <td>44085</td>\n",
       "      <td>PPC</td>\n",
       "      <td>Conversion</td>\n",
       "      <td>539.525936</td>\n",
       "      <td>0.137611</td>\n",
       "      <td>0.088004</td>\n",
       "      <td>47</td>\n",
       "      <td>4.540939</td>\n",
       "      <td>14.688363</td>\n",
       "      <td>89</td>\n",
       "      <td>2</td>\n",
       "      <td>2</td>\n",
       "      <td>0</td>\n",
       "      <td>2463</td>\n",
       "    </tr>\n",
       "    <tr>\n",
       "      <th>4</th>\n",
       "      <td>60</td>\n",
       "      <td>Female</td>\n",
       "      <td>83964</td>\n",
       "      <td>PPC</td>\n",
       "      <td>Conversion</td>\n",
       "      <td>1678.043573</td>\n",
       "      <td>0.252851</td>\n",
       "      <td>0.109940</td>\n",
       "      <td>0</td>\n",
       "      <td>2.046847</td>\n",
       "      <td>13.993370</td>\n",
       "      <td>6</td>\n",
       "      <td>6</td>\n",
       "      <td>6</td>\n",
       "      <td>8</td>\n",
       "      <td>4345</td>\n",
       "    </tr>\n",
       "  </tbody>\n",
       "</table>\n",
       "</div>"
      ],
      "text/plain": [
       "   Age  Gender  Income CampaignChannel CampaignType      AdSpend  \\\n",
       "0   56  Female  136912    Social Media    Awareness  6497.870068   \n",
       "1   69    Male   41760           Email    Retention  3898.668606   \n",
       "2   46  Female   88456             PPC    Awareness  1546.429596   \n",
       "3   32  Female   44085             PPC   Conversion   539.525936   \n",
       "4   60  Female   83964             PPC   Conversion  1678.043573   \n",
       "\n",
       "   ClickThroughRate  ConversionRate  WebsiteVisits  PagesPerVisit  TimeOnSite  \\\n",
       "0          0.043919        0.088031              0       2.399017    7.396803   \n",
       "1          0.155725        0.182725             42       2.917138    5.352549   \n",
       "2          0.277490        0.076423              2       8.223619   13.794901   \n",
       "3          0.137611        0.088004             47       4.540939   14.688363   \n",
       "4          0.252851        0.109940              0       2.046847   13.993370   \n",
       "\n",
       "   SocialShares  EmailOpens  EmailClicks  PreviousPurchases  LoyaltyPoints  \n",
       "0            19           6            9                  4            688  \n",
       "1             5           2            7                  2           3459  \n",
       "2             0          11            2                  8           2337  \n",
       "3            89           2            2                  0           2463  \n",
       "4             6           6            6                  8           4345  "
      ]
     },
     "execution_count": 29,
     "metadata": {},
     "output_type": "execute_result"
    }
   ],
   "source": [
    "x.head()"
   ]
  },
  {
   "cell_type": "code",
   "execution_count": 30,
   "id": "7762cc8f",
   "metadata": {
    "execution": {
     "iopub.execute_input": "2024-07-10T10:20:21.549829Z",
     "iopub.status.busy": "2024-07-10T10:20:21.549444Z",
     "iopub.status.idle": "2024-07-10T10:20:23.214456Z",
     "shell.execute_reply": "2024-07-10T10:20:23.213178Z"
    },
    "papermill": {
     "duration": 1.689097,
     "end_time": "2024-07-10T10:20:23.217307",
     "exception": false,
     "start_time": "2024-07-10T10:20:21.528210",
     "status": "completed"
    },
    "tags": []
   },
   "outputs": [],
   "source": [
    "from sklearn.preprocessing import LabelEncoder"
   ]
  },
  {
   "cell_type": "code",
   "execution_count": 31,
   "id": "3eb641ad",
   "metadata": {
    "execution": {
     "iopub.execute_input": "2024-07-10T10:20:23.259342Z",
     "iopub.status.busy": "2024-07-10T10:20:23.257972Z",
     "iopub.status.idle": "2024-07-10T10:20:23.285631Z",
     "shell.execute_reply": "2024-07-10T10:20:23.283766Z"
    },
    "papermill": {
     "duration": 0.051058,
     "end_time": "2024-07-10T10:20:23.288672",
     "exception": false,
     "start_time": "2024-07-10T10:20:23.237614",
     "status": "completed"
    },
    "tags": []
   },
   "outputs": [
    {
     "data": {
      "text/html": [
       "<div>\n",
       "<style scoped>\n",
       "    .dataframe tbody tr th:only-of-type {\n",
       "        vertical-align: middle;\n",
       "    }\n",
       "\n",
       "    .dataframe tbody tr th {\n",
       "        vertical-align: top;\n",
       "    }\n",
       "\n",
       "    .dataframe thead th {\n",
       "        text-align: right;\n",
       "    }\n",
       "</style>\n",
       "<table border=\"1\" class=\"dataframe\">\n",
       "  <thead>\n",
       "    <tr style=\"text-align: right;\">\n",
       "      <th></th>\n",
       "      <th>Age</th>\n",
       "      <th>Gender</th>\n",
       "      <th>Income</th>\n",
       "      <th>CampaignChannel</th>\n",
       "      <th>CampaignType</th>\n",
       "      <th>AdSpend</th>\n",
       "      <th>ClickThroughRate</th>\n",
       "      <th>ConversionRate</th>\n",
       "      <th>WebsiteVisits</th>\n",
       "      <th>PagesPerVisit</th>\n",
       "      <th>TimeOnSite</th>\n",
       "      <th>SocialShares</th>\n",
       "      <th>EmailOpens</th>\n",
       "      <th>EmailClicks</th>\n",
       "      <th>PreviousPurchases</th>\n",
       "      <th>LoyaltyPoints</th>\n",
       "    </tr>\n",
       "  </thead>\n",
       "  <tbody>\n",
       "    <tr>\n",
       "      <th>0</th>\n",
       "      <td>56</td>\n",
       "      <td>0</td>\n",
       "      <td>136912</td>\n",
       "      <td>4</td>\n",
       "      <td>0</td>\n",
       "      <td>6497.870068</td>\n",
       "      <td>0.043919</td>\n",
       "      <td>0.088031</td>\n",
       "      <td>0</td>\n",
       "      <td>2.399017</td>\n",
       "      <td>7.396803</td>\n",
       "      <td>19</td>\n",
       "      <td>6</td>\n",
       "      <td>9</td>\n",
       "      <td>4</td>\n",
       "      <td>688</td>\n",
       "    </tr>\n",
       "    <tr>\n",
       "      <th>1</th>\n",
       "      <td>69</td>\n",
       "      <td>1</td>\n",
       "      <td>41760</td>\n",
       "      <td>0</td>\n",
       "      <td>3</td>\n",
       "      <td>3898.668606</td>\n",
       "      <td>0.155725</td>\n",
       "      <td>0.182725</td>\n",
       "      <td>42</td>\n",
       "      <td>2.917138</td>\n",
       "      <td>5.352549</td>\n",
       "      <td>5</td>\n",
       "      <td>2</td>\n",
       "      <td>7</td>\n",
       "      <td>2</td>\n",
       "      <td>3459</td>\n",
       "    </tr>\n",
       "    <tr>\n",
       "      <th>2</th>\n",
       "      <td>46</td>\n",
       "      <td>0</td>\n",
       "      <td>88456</td>\n",
       "      <td>1</td>\n",
       "      <td>0</td>\n",
       "      <td>1546.429596</td>\n",
       "      <td>0.277490</td>\n",
       "      <td>0.076423</td>\n",
       "      <td>2</td>\n",
       "      <td>8.223619</td>\n",
       "      <td>13.794901</td>\n",
       "      <td>0</td>\n",
       "      <td>11</td>\n",
       "      <td>2</td>\n",
       "      <td>8</td>\n",
       "      <td>2337</td>\n",
       "    </tr>\n",
       "    <tr>\n",
       "      <th>3</th>\n",
       "      <td>32</td>\n",
       "      <td>0</td>\n",
       "      <td>44085</td>\n",
       "      <td>1</td>\n",
       "      <td>2</td>\n",
       "      <td>539.525936</td>\n",
       "      <td>0.137611</td>\n",
       "      <td>0.088004</td>\n",
       "      <td>47</td>\n",
       "      <td>4.540939</td>\n",
       "      <td>14.688363</td>\n",
       "      <td>89</td>\n",
       "      <td>2</td>\n",
       "      <td>2</td>\n",
       "      <td>0</td>\n",
       "      <td>2463</td>\n",
       "    </tr>\n",
       "    <tr>\n",
       "      <th>4</th>\n",
       "      <td>60</td>\n",
       "      <td>0</td>\n",
       "      <td>83964</td>\n",
       "      <td>1</td>\n",
       "      <td>2</td>\n",
       "      <td>1678.043573</td>\n",
       "      <td>0.252851</td>\n",
       "      <td>0.109940</td>\n",
       "      <td>0</td>\n",
       "      <td>2.046847</td>\n",
       "      <td>13.993370</td>\n",
       "      <td>6</td>\n",
       "      <td>6</td>\n",
       "      <td>6</td>\n",
       "      <td>8</td>\n",
       "      <td>4345</td>\n",
       "    </tr>\n",
       "  </tbody>\n",
       "</table>\n",
       "</div>"
      ],
      "text/plain": [
       "   Age  Gender  Income  CampaignChannel  CampaignType      AdSpend  \\\n",
       "0   56       0  136912                4             0  6497.870068   \n",
       "1   69       1   41760                0             3  3898.668606   \n",
       "2   46       0   88456                1             0  1546.429596   \n",
       "3   32       0   44085                1             2   539.525936   \n",
       "4   60       0   83964                1             2  1678.043573   \n",
       "\n",
       "   ClickThroughRate  ConversionRate  WebsiteVisits  PagesPerVisit  TimeOnSite  \\\n",
       "0          0.043919        0.088031              0       2.399017    7.396803   \n",
       "1          0.155725        0.182725             42       2.917138    5.352549   \n",
       "2          0.277490        0.076423              2       8.223619   13.794901   \n",
       "3          0.137611        0.088004             47       4.540939   14.688363   \n",
       "4          0.252851        0.109940              0       2.046847   13.993370   \n",
       "\n",
       "   SocialShares  EmailOpens  EmailClicks  PreviousPurchases  LoyaltyPoints  \n",
       "0            19           6            9                  4            688  \n",
       "1             5           2            7                  2           3459  \n",
       "2             0          11            2                  8           2337  \n",
       "3            89           2            2                  0           2463  \n",
       "4             6           6            6                  8           4345  "
      ]
     },
     "execution_count": 31,
     "metadata": {},
     "output_type": "execute_result"
    }
   ],
   "source": [
    "le = LabelEncoder()\n",
    "x.Gender = le.fit_transform(x.Gender)\n",
    "x.CampaignChannel = le.fit_transform(x.CampaignChannel)\n",
    "x.CampaignType = le.fit_transform(x.CampaignType)\n",
    "x.head()"
   ]
  },
  {
   "cell_type": "code",
   "execution_count": 32,
   "id": "d5af35a0",
   "metadata": {
    "execution": {
     "iopub.execute_input": "2024-07-10T10:20:23.329744Z",
     "iopub.status.busy": "2024-07-10T10:20:23.329363Z",
     "iopub.status.idle": "2024-07-10T10:20:23.334502Z",
     "shell.execute_reply": "2024-07-10T10:20:23.333091Z"
    },
    "papermill": {
     "duration": 0.027064,
     "end_time": "2024-07-10T10:20:23.336916",
     "exception": false,
     "start_time": "2024-07-10T10:20:23.309852",
     "status": "completed"
    },
    "tags": []
   },
   "outputs": [],
   "source": [
    "from sklearn.preprocessing import StandardScaler"
   ]
  },
  {
   "cell_type": "code",
   "execution_count": 33,
   "id": "21192965",
   "metadata": {
    "execution": {
     "iopub.execute_input": "2024-07-10T10:20:23.383736Z",
     "iopub.status.busy": "2024-07-10T10:20:23.383278Z",
     "iopub.status.idle": "2024-07-10T10:20:23.418525Z",
     "shell.execute_reply": "2024-07-10T10:20:23.416873Z"
    },
    "papermill": {
     "duration": 0.063165,
     "end_time": "2024-07-10T10:20:23.421167",
     "exception": false,
     "start_time": "2024-07-10T10:20:23.358002",
     "status": "completed"
    },
    "tags": []
   },
   "outputs": [
    {
     "data": {
      "text/html": [
       "<div>\n",
       "<style scoped>\n",
       "    .dataframe tbody tr th:only-of-type {\n",
       "        vertical-align: middle;\n",
       "    }\n",
       "\n",
       "    .dataframe tbody tr th {\n",
       "        vertical-align: top;\n",
       "    }\n",
       "\n",
       "    .dataframe thead th {\n",
       "        text-align: right;\n",
       "    }\n",
       "</style>\n",
       "<table border=\"1\" class=\"dataframe\">\n",
       "  <thead>\n",
       "    <tr style=\"text-align: right;\">\n",
       "      <th></th>\n",
       "      <th>0</th>\n",
       "      <th>1</th>\n",
       "      <th>2</th>\n",
       "      <th>3</th>\n",
       "      <th>4</th>\n",
       "      <th>5</th>\n",
       "      <th>6</th>\n",
       "      <th>7</th>\n",
       "      <th>8</th>\n",
       "      <th>9</th>\n",
       "      <th>10</th>\n",
       "      <th>11</th>\n",
       "      <th>12</th>\n",
       "      <th>13</th>\n",
       "      <th>14</th>\n",
       "      <th>15</th>\n",
       "    </tr>\n",
       "  </thead>\n",
       "  <tbody>\n",
       "    <tr>\n",
       "      <th>0</th>\n",
       "      <td>0.830400</td>\n",
       "      <td>-0.808229</td>\n",
       "      <td>1.390381</td>\n",
       "      <td>1.452867</td>\n",
       "      <td>-1.348537</td>\n",
       "      <td>0.527484</td>\n",
       "      <td>-1.320328</td>\n",
       "      <td>-0.298084</td>\n",
       "      <td>-1.729507</td>\n",
       "      <td>-1.208303</td>\n",
       "      <td>-0.078268</td>\n",
       "      <td>-1.065759</td>\n",
       "      <td>-0.608829</td>\n",
       "      <td>1.586840</td>\n",
       "      <td>-0.168115</td>\n",
       "      <td>-1.260823</td>\n",
       "    </tr>\n",
       "    <tr>\n",
       "      <th>1</th>\n",
       "      <td>1.702775</td>\n",
       "      <td>1.237273</td>\n",
       "      <td>-1.141736</td>\n",
       "      <td>-1.420363</td>\n",
       "      <td>1.352363</td>\n",
       "      <td>-0.388418</td>\n",
       "      <td>0.010671</td>\n",
       "      <td>1.427538</td>\n",
       "      <td>1.205221</td>\n",
       "      <td>-1.009576</td>\n",
       "      <td>-0.561778</td>\n",
       "      <td>-1.550199</td>\n",
       "      <td>-1.309262</td>\n",
       "      <td>0.886654</td>\n",
       "      <td>-0.860656</td>\n",
       "      <td>0.677701</td>\n",
       "    </tr>\n",
       "    <tr>\n",
       "      <th>2</th>\n",
       "      <td>0.159343</td>\n",
       "      <td>-0.808229</td>\n",
       "      <td>0.100905</td>\n",
       "      <td>-0.702056</td>\n",
       "      <td>-1.348537</td>\n",
       "      <td>-1.217296</td>\n",
       "      <td>1.460225</td>\n",
       "      <td>-0.509632</td>\n",
       "      <td>-1.589758</td>\n",
       "      <td>1.025746</td>\n",
       "      <td>1.435016</td>\n",
       "      <td>-1.723213</td>\n",
       "      <td>0.266712</td>\n",
       "      <td>-0.863810</td>\n",
       "      <td>1.216969</td>\n",
       "      <td>-0.107223</td>\n",
       "    </tr>\n",
       "    <tr>\n",
       "      <th>3</th>\n",
       "      <td>-0.780138</td>\n",
       "      <td>-0.808229</td>\n",
       "      <td>-1.079865</td>\n",
       "      <td>-0.702056</td>\n",
       "      <td>0.452063</td>\n",
       "      <td>-1.572106</td>\n",
       "      <td>-0.204964</td>\n",
       "      <td>-0.298580</td>\n",
       "      <td>1.554594</td>\n",
       "      <td>-0.386761</td>\n",
       "      <td>1.646339</td>\n",
       "      <td>1.356440</td>\n",
       "      <td>-1.309262</td>\n",
       "      <td>-0.863810</td>\n",
       "      <td>-1.553198</td>\n",
       "      <td>-0.019076</td>\n",
       "    </tr>\n",
       "    <tr>\n",
       "      <th>4</th>\n",
       "      <td>1.098823</td>\n",
       "      <td>-0.808229</td>\n",
       "      <td>-0.018633</td>\n",
       "      <td>-0.702056</td>\n",
       "      <td>0.452063</td>\n",
       "      <td>-1.170918</td>\n",
       "      <td>1.166907</td>\n",
       "      <td>0.101164</td>\n",
       "      <td>-1.729507</td>\n",
       "      <td>-1.343379</td>\n",
       "      <td>1.481958</td>\n",
       "      <td>-1.515596</td>\n",
       "      <td>-0.608829</td>\n",
       "      <td>0.536561</td>\n",
       "      <td>1.216969</td>\n",
       "      <td>1.297525</td>\n",
       "    </tr>\n",
       "    <tr>\n",
       "      <th>...</th>\n",
       "      <td>...</td>\n",
       "      <td>...</td>\n",
       "      <td>...</td>\n",
       "      <td>...</td>\n",
       "      <td>...</td>\n",
       "      <td>...</td>\n",
       "      <td>...</td>\n",
       "      <td>...</td>\n",
       "      <td>...</td>\n",
       "      <td>...</td>\n",
       "      <td>...</td>\n",
       "      <td>...</td>\n",
       "      <td>...</td>\n",
       "      <td>...</td>\n",
       "      <td>...</td>\n",
       "      <td>...</td>\n",
       "    </tr>\n",
       "    <tr>\n",
       "      <th>7995</th>\n",
       "      <td>-1.518301</td>\n",
       "      <td>1.237273</td>\n",
       "      <td>-1.591759</td>\n",
       "      <td>-1.420363</td>\n",
       "      <td>-1.348537</td>\n",
       "      <td>1.239442</td>\n",
       "      <td>1.059063</td>\n",
       "      <td>0.225675</td>\n",
       "      <td>-0.122394</td>\n",
       "      <td>1.589564</td>\n",
       "      <td>1.537405</td>\n",
       "      <td>0.698986</td>\n",
       "      <td>0.616928</td>\n",
       "      <td>0.536561</td>\n",
       "      <td>0.870698</td>\n",
       "      <td>-1.542053</td>\n",
       "    </tr>\n",
       "    <tr>\n",
       "      <th>7996</th>\n",
       "      <td>-0.041975</td>\n",
       "      <td>-0.808229</td>\n",
       "      <td>-1.063020</td>\n",
       "      <td>0.734559</td>\n",
       "      <td>1.352363</td>\n",
       "      <td>-1.260221</td>\n",
       "      <td>0.975118</td>\n",
       "      <td>1.561230</td>\n",
       "      <td>1.694343</td>\n",
       "      <td>1.514927</td>\n",
       "      <td>-0.999683</td>\n",
       "      <td>0.076135</td>\n",
       "      <td>0.616928</td>\n",
       "      <td>-1.213903</td>\n",
       "      <td>0.178156</td>\n",
       "      <td>-0.691369</td>\n",
       "    </tr>\n",
       "    <tr>\n",
       "      <th>7997</th>\n",
       "      <td>-1.048561</td>\n",
       "      <td>-0.808229</td>\n",
       "      <td>1.085922</td>\n",
       "      <td>0.016252</td>\n",
       "      <td>-0.448237</td>\n",
       "      <td>-0.137924</td>\n",
       "      <td>-1.170243</td>\n",
       "      <td>0.536446</td>\n",
       "      <td>0.716100</td>\n",
       "      <td>-1.034084</td>\n",
       "      <td>1.629773</td>\n",
       "      <td>-0.408305</td>\n",
       "      <td>1.142253</td>\n",
       "      <td>-1.563996</td>\n",
       "      <td>-0.514385</td>\n",
       "      <td>-1.225845</td>\n",
       "    </tr>\n",
       "    <tr>\n",
       "      <th>7998</th>\n",
       "      <td>-1.652513</td>\n",
       "      <td>-0.808229</td>\n",
       "      <td>0.617323</td>\n",
       "      <td>-0.702056</td>\n",
       "      <td>-0.448237</td>\n",
       "      <td>1.576949</td>\n",
       "      <td>-1.557909</td>\n",
       "      <td>0.619545</td>\n",
       "      <td>1.694343</td>\n",
       "      <td>-1.743765</td>\n",
       "      <td>-0.910865</td>\n",
       "      <td>1.252632</td>\n",
       "      <td>-1.484370</td>\n",
       "      <td>0.186468</td>\n",
       "      <td>0.870698</td>\n",
       "      <td>0.153019</td>\n",
       "    </tr>\n",
       "    <tr>\n",
       "      <th>7999</th>\n",
       "      <td>-0.847244</td>\n",
       "      <td>-0.808229</td>\n",
       "      <td>0.221880</td>\n",
       "      <td>-1.420363</td>\n",
       "      <td>-1.348537</td>\n",
       "      <td>0.966461</td>\n",
       "      <td>0.367152</td>\n",
       "      <td>-0.859422</td>\n",
       "      <td>-0.681390</td>\n",
       "      <td>0.542898</td>\n",
       "      <td>1.191106</td>\n",
       "      <td>-1.654007</td>\n",
       "      <td>1.492469</td>\n",
       "      <td>1.586840</td>\n",
       "      <td>1.563240</td>\n",
       "      <td>-1.503576</td>\n",
       "    </tr>\n",
       "  </tbody>\n",
       "</table>\n",
       "<p>8000 rows × 16 columns</p>\n",
       "</div>"
      ],
      "text/plain": [
       "            0         1         2         3         4         5         6   \\\n",
       "0     0.830400 -0.808229  1.390381  1.452867 -1.348537  0.527484 -1.320328   \n",
       "1     1.702775  1.237273 -1.141736 -1.420363  1.352363 -0.388418  0.010671   \n",
       "2     0.159343 -0.808229  0.100905 -0.702056 -1.348537 -1.217296  1.460225   \n",
       "3    -0.780138 -0.808229 -1.079865 -0.702056  0.452063 -1.572106 -0.204964   \n",
       "4     1.098823 -0.808229 -0.018633 -0.702056  0.452063 -1.170918  1.166907   \n",
       "...        ...       ...       ...       ...       ...       ...       ...   \n",
       "7995 -1.518301  1.237273 -1.591759 -1.420363 -1.348537  1.239442  1.059063   \n",
       "7996 -0.041975 -0.808229 -1.063020  0.734559  1.352363 -1.260221  0.975118   \n",
       "7997 -1.048561 -0.808229  1.085922  0.016252 -0.448237 -0.137924 -1.170243   \n",
       "7998 -1.652513 -0.808229  0.617323 -0.702056 -0.448237  1.576949 -1.557909   \n",
       "7999 -0.847244 -0.808229  0.221880 -1.420363 -1.348537  0.966461  0.367152   \n",
       "\n",
       "            7         8         9         10        11        12        13  \\\n",
       "0    -0.298084 -1.729507 -1.208303 -0.078268 -1.065759 -0.608829  1.586840   \n",
       "1     1.427538  1.205221 -1.009576 -0.561778 -1.550199 -1.309262  0.886654   \n",
       "2    -0.509632 -1.589758  1.025746  1.435016 -1.723213  0.266712 -0.863810   \n",
       "3    -0.298580  1.554594 -0.386761  1.646339  1.356440 -1.309262 -0.863810   \n",
       "4     0.101164 -1.729507 -1.343379  1.481958 -1.515596 -0.608829  0.536561   \n",
       "...        ...       ...       ...       ...       ...       ...       ...   \n",
       "7995  0.225675 -0.122394  1.589564  1.537405  0.698986  0.616928  0.536561   \n",
       "7996  1.561230  1.694343  1.514927 -0.999683  0.076135  0.616928 -1.213903   \n",
       "7997  0.536446  0.716100 -1.034084  1.629773 -0.408305  1.142253 -1.563996   \n",
       "7998  0.619545  1.694343 -1.743765 -0.910865  1.252632 -1.484370  0.186468   \n",
       "7999 -0.859422 -0.681390  0.542898  1.191106 -1.654007  1.492469  1.586840   \n",
       "\n",
       "            14        15  \n",
       "0    -0.168115 -1.260823  \n",
       "1    -0.860656  0.677701  \n",
       "2     1.216969 -0.107223  \n",
       "3    -1.553198 -0.019076  \n",
       "4     1.216969  1.297525  \n",
       "...        ...       ...  \n",
       "7995  0.870698 -1.542053  \n",
       "7996  0.178156 -0.691369  \n",
       "7997 -0.514385 -1.225845  \n",
       "7998  0.870698  0.153019  \n",
       "7999  1.563240 -1.503576  \n",
       "\n",
       "[8000 rows x 16 columns]"
      ]
     },
     "execution_count": 33,
     "metadata": {},
     "output_type": "execute_result"
    }
   ],
   "source": [
    "scaler = StandardScaler()\n",
    "x_scalled = scaler.fit_transform(x)\n",
    "pd.DataFrame(x_scalled)"
   ]
  },
  {
   "cell_type": "code",
   "execution_count": 34,
   "id": "27edaa51",
   "metadata": {
    "execution": {
     "iopub.execute_input": "2024-07-10T10:20:23.465293Z",
     "iopub.status.busy": "2024-07-10T10:20:23.464849Z",
     "iopub.status.idle": "2024-07-10T10:20:23.628389Z",
     "shell.execute_reply": "2024-07-10T10:20:23.627036Z"
    },
    "papermill": {
     "duration": 0.188145,
     "end_time": "2024-07-10T10:20:23.631195",
     "exception": false,
     "start_time": "2024-07-10T10:20:23.443050",
     "status": "completed"
    },
    "tags": []
   },
   "outputs": [],
   "source": [
    "from sklearn.model_selection import train_test_split"
   ]
  },
  {
   "cell_type": "code",
   "execution_count": 35,
   "id": "ed5b5ef7",
   "metadata": {
    "execution": {
     "iopub.execute_input": "2024-07-10T10:20:23.671830Z",
     "iopub.status.busy": "2024-07-10T10:20:23.671384Z",
     "iopub.status.idle": "2024-07-10T10:20:23.690569Z",
     "shell.execute_reply": "2024-07-10T10:20:23.689124Z"
    },
    "papermill": {
     "duration": 0.043797,
     "end_time": "2024-07-10T10:20:23.694243",
     "exception": false,
     "start_time": "2024-07-10T10:20:23.650446",
     "status": "completed"
    },
    "tags": []
   },
   "outputs": [
    {
     "data": {
      "text/plain": [
       "((6400, 16), (6400,))"
      ]
     },
     "execution_count": 35,
     "metadata": {},
     "output_type": "execute_result"
    }
   ],
   "source": [
    "x_train, x_test, y_train, y_test = train_test_split(x, y, test_size=0.20, random_state=42)\n",
    "x_train.shape,y_train.shape"
   ]
  },
  {
   "cell_type": "code",
   "execution_count": 36,
   "id": "0cb5bf55",
   "metadata": {
    "execution": {
     "iopub.execute_input": "2024-07-10T10:20:23.737465Z",
     "iopub.status.busy": "2024-07-10T10:20:23.737075Z",
     "iopub.status.idle": "2024-07-10T10:20:23.872570Z",
     "shell.execute_reply": "2024-07-10T10:20:23.871419Z"
    },
    "papermill": {
     "duration": 0.160991,
     "end_time": "2024-07-10T10:20:23.875283",
     "exception": false,
     "start_time": "2024-07-10T10:20:23.714292",
     "status": "completed"
    },
    "tags": []
   },
   "outputs": [],
   "source": [
    "from sklearn.linear_model import LogisticRegression"
   ]
  },
  {
   "cell_type": "code",
   "execution_count": 37,
   "id": "658391d9",
   "metadata": {
    "execution": {
     "iopub.execute_input": "2024-07-10T10:20:23.916848Z",
     "iopub.status.busy": "2024-07-10T10:20:23.915886Z",
     "iopub.status.idle": "2024-07-10T10:20:23.921920Z",
     "shell.execute_reply": "2024-07-10T10:20:23.920268Z"
    },
    "papermill": {
     "duration": 0.02971,
     "end_time": "2024-07-10T10:20:23.924599",
     "exception": false,
     "start_time": "2024-07-10T10:20:23.894889",
     "status": "completed"
    },
    "tags": []
   },
   "outputs": [],
   "source": [
    "from sklearn.model_selection import cross_val_score"
   ]
  },
  {
   "cell_type": "code",
   "execution_count": 38,
   "id": "4e499357",
   "metadata": {
    "execution": {
     "iopub.execute_input": "2024-07-10T10:20:23.966537Z",
     "iopub.status.busy": "2024-07-10T10:20:23.966090Z",
     "iopub.status.idle": "2024-07-10T10:20:24.463923Z",
     "shell.execute_reply": "2024-07-10T10:20:24.462488Z"
    },
    "papermill": {
     "duration": 0.524231,
     "end_time": "2024-07-10T10:20:24.467835",
     "exception": false,
     "start_time": "2024-07-10T10:20:23.943604",
     "status": "completed"
    },
    "tags": []
   },
   "outputs": [
    {
     "name": "stderr",
     "output_type": "stream",
     "text": [
      "/opt/conda/lib/python3.10/site-packages/sklearn/linear_model/_logistic.py:458: ConvergenceWarning: lbfgs failed to converge (status=1):\n",
      "STOP: TOTAL NO. of ITERATIONS REACHED LIMIT.\n",
      "\n",
      "Increase the number of iterations (max_iter) or scale the data as shown in:\n",
      "    https://scikit-learn.org/stable/modules/preprocessing.html\n",
      "Please also refer to the documentation for alternative solver options:\n",
      "    https://scikit-learn.org/stable/modules/linear_model.html#logistic-regression\n",
      "  n_iter_i = _check_optimize_result(\n",
      "/opt/conda/lib/python3.10/site-packages/sklearn/linear_model/_logistic.py:458: ConvergenceWarning: lbfgs failed to converge (status=1):\n",
      "STOP: TOTAL NO. of ITERATIONS REACHED LIMIT.\n",
      "\n",
      "Increase the number of iterations (max_iter) or scale the data as shown in:\n",
      "    https://scikit-learn.org/stable/modules/preprocessing.html\n",
      "Please also refer to the documentation for alternative solver options:\n",
      "    https://scikit-learn.org/stable/modules/linear_model.html#logistic-regression\n",
      "  n_iter_i = _check_optimize_result(\n",
      "/opt/conda/lib/python3.10/site-packages/sklearn/linear_model/_logistic.py:458: ConvergenceWarning: lbfgs failed to converge (status=1):\n",
      "STOP: TOTAL NO. of ITERATIONS REACHED LIMIT.\n",
      "\n",
      "Increase the number of iterations (max_iter) or scale the data as shown in:\n",
      "    https://scikit-learn.org/stable/modules/preprocessing.html\n",
      "Please also refer to the documentation for alternative solver options:\n",
      "    https://scikit-learn.org/stable/modules/linear_model.html#logistic-regression\n",
      "  n_iter_i = _check_optimize_result(\n",
      "/opt/conda/lib/python3.10/site-packages/sklearn/linear_model/_logistic.py:458: ConvergenceWarning: lbfgs failed to converge (status=1):\n",
      "STOP: TOTAL NO. of ITERATIONS REACHED LIMIT.\n",
      "\n",
      "Increase the number of iterations (max_iter) or scale the data as shown in:\n",
      "    https://scikit-learn.org/stable/modules/preprocessing.html\n",
      "Please also refer to the documentation for alternative solver options:\n",
      "    https://scikit-learn.org/stable/modules/linear_model.html#logistic-regression\n",
      "  n_iter_i = _check_optimize_result(\n",
      "/opt/conda/lib/python3.10/site-packages/sklearn/linear_model/_logistic.py:458: ConvergenceWarning: lbfgs failed to converge (status=1):\n",
      "STOP: TOTAL NO. of ITERATIONS REACHED LIMIT.\n",
      "\n",
      "Increase the number of iterations (max_iter) or scale the data as shown in:\n",
      "    https://scikit-learn.org/stable/modules/preprocessing.html\n",
      "Please also refer to the documentation for alternative solver options:\n",
      "    https://scikit-learn.org/stable/modules/linear_model.html#logistic-regression\n",
      "  n_iter_i = _check_optimize_result(\n"
     ]
    },
    {
     "data": {
      "text/plain": [
       "0.8762500000000001"
      ]
     },
     "execution_count": 38,
     "metadata": {},
     "output_type": "execute_result"
    }
   ],
   "source": [
    "score = cross_val_score(LogisticRegression(), x_train,y_train, cv=5)\n",
    "score.mean()"
   ]
  },
  {
   "cell_type": "code",
   "execution_count": 39,
   "id": "4f9e3ef5",
   "metadata": {
    "execution": {
     "iopub.execute_input": "2024-07-10T10:20:24.541922Z",
     "iopub.status.busy": "2024-07-10T10:20:24.541365Z",
     "iopub.status.idle": "2024-07-10T10:20:24.812321Z",
     "shell.execute_reply": "2024-07-10T10:20:24.811089Z"
    },
    "papermill": {
     "duration": 0.312412,
     "end_time": "2024-07-10T10:20:24.815122",
     "exception": false,
     "start_time": "2024-07-10T10:20:24.502710",
     "status": "completed"
    },
    "tags": []
   },
   "outputs": [],
   "source": [
    "from sklearn.ensemble import RandomForestClassifier"
   ]
  },
  {
   "cell_type": "code",
   "execution_count": 40,
   "id": "de0a737f",
   "metadata": {
    "execution": {
     "iopub.execute_input": "2024-07-10T10:20:24.858304Z",
     "iopub.status.busy": "2024-07-10T10:20:24.857911Z",
     "iopub.status.idle": "2024-07-10T10:20:32.967507Z",
     "shell.execute_reply": "2024-07-10T10:20:32.965857Z"
    },
    "papermill": {
     "duration": 8.135802,
     "end_time": "2024-07-10T10:20:32.970383",
     "exception": false,
     "start_time": "2024-07-10T10:20:24.834581",
     "status": "completed"
    },
    "tags": []
   },
   "outputs": [
    {
     "data": {
      "text/plain": [
       "0.8940624999999999"
      ]
     },
     "execution_count": 40,
     "metadata": {},
     "output_type": "execute_result"
    }
   ],
   "source": [
    "score = cross_val_score(RandomForestClassifier(), x_train, y_train, cv=5)\n",
    "score.mean()"
   ]
  },
  {
   "cell_type": "code",
   "execution_count": 41,
   "id": "3637a363",
   "metadata": {
    "execution": {
     "iopub.execute_input": "2024-07-10T10:20:33.012260Z",
     "iopub.status.busy": "2024-07-10T10:20:33.011874Z",
     "iopub.status.idle": "2024-07-10T10:20:33.016900Z",
     "shell.execute_reply": "2024-07-10T10:20:33.015707Z"
    },
    "papermill": {
     "duration": 0.029403,
     "end_time": "2024-07-10T10:20:33.019132",
     "exception": false,
     "start_time": "2024-07-10T10:20:32.989729",
     "status": "completed"
    },
    "tags": []
   },
   "outputs": [],
   "source": [
    "from sklearn.svm import SVC"
   ]
  },
  {
   "cell_type": "code",
   "execution_count": 42,
   "id": "b46895da",
   "metadata": {
    "execution": {
     "iopub.execute_input": "2024-07-10T10:20:33.061131Z",
     "iopub.status.busy": "2024-07-10T10:20:33.060707Z",
     "iopub.status.idle": "2024-07-10T10:20:35.312342Z",
     "shell.execute_reply": "2024-07-10T10:20:35.310885Z"
    },
    "papermill": {
     "duration": 2.276294,
     "end_time": "2024-07-10T10:20:35.315359",
     "exception": false,
     "start_time": "2024-07-10T10:20:33.039065",
     "status": "completed"
    },
    "tags": []
   },
   "outputs": [],
   "source": [
    "score = cross_val_score(SVC(), x_train, y_train, cv=5)"
   ]
  },
  {
   "cell_type": "code",
   "execution_count": 43,
   "id": "67ac2250",
   "metadata": {
    "execution": {
     "iopub.execute_input": "2024-07-10T10:20:35.356459Z",
     "iopub.status.busy": "2024-07-10T10:20:35.356053Z",
     "iopub.status.idle": "2024-07-10T10:20:35.363805Z",
     "shell.execute_reply": "2024-07-10T10:20:35.362474Z"
    },
    "papermill": {
     "duration": 0.030779,
     "end_time": "2024-07-10T10:20:35.366275",
     "exception": false,
     "start_time": "2024-07-10T10:20:35.335496",
     "status": "completed"
    },
    "tags": []
   },
   "outputs": [
    {
     "data": {
      "text/plain": [
       "0.8759375"
      ]
     },
     "execution_count": 43,
     "metadata": {},
     "output_type": "execute_result"
    }
   ],
   "source": [
    "score.mean()"
   ]
  },
  {
   "cell_type": "code",
   "execution_count": 44,
   "id": "14962bc1",
   "metadata": {
    "execution": {
     "iopub.execute_input": "2024-07-10T10:20:35.406493Z",
     "iopub.status.busy": "2024-07-10T10:20:35.405774Z",
     "iopub.status.idle": "2024-07-10T10:20:35.411207Z",
     "shell.execute_reply": "2024-07-10T10:20:35.409851Z"
    },
    "papermill": {
     "duration": 0.02881,
     "end_time": "2024-07-10T10:20:35.414125",
     "exception": false,
     "start_time": "2024-07-10T10:20:35.385315",
     "status": "completed"
    },
    "tags": []
   },
   "outputs": [],
   "source": [
    "from sklearn.neighbors import KNeighborsClassifier"
   ]
  },
  {
   "cell_type": "code",
   "execution_count": 45,
   "id": "4c3acaf0",
   "metadata": {
    "execution": {
     "iopub.execute_input": "2024-07-10T10:20:35.455528Z",
     "iopub.status.busy": "2024-07-10T10:20:35.455163Z",
     "iopub.status.idle": "2024-07-10T10:20:35.963093Z",
     "shell.execute_reply": "2024-07-10T10:20:35.961531Z"
    },
    "papermill": {
     "duration": 0.531117,
     "end_time": "2024-07-10T10:20:35.965627",
     "exception": false,
     "start_time": "2024-07-10T10:20:35.434510",
     "status": "completed"
    },
    "tags": []
   },
   "outputs": [
    {
     "data": {
      "text/plain": [
       "0.8659375"
      ]
     },
     "execution_count": 45,
     "metadata": {},
     "output_type": "execute_result"
    }
   ],
   "source": [
    "score = cross_val_score(KNeighborsClassifier(), x_train, y_train, cv=5)\n",
    "score.mean()"
   ]
  },
  {
   "cell_type": "code",
   "execution_count": 46,
   "id": "7572bffd",
   "metadata": {
    "execution": {
     "iopub.execute_input": "2024-07-10T10:20:36.007342Z",
     "iopub.status.busy": "2024-07-10T10:20:36.006979Z",
     "iopub.status.idle": "2024-07-10T10:20:37.956233Z",
     "shell.execute_reply": "2024-07-10T10:20:37.954885Z"
    },
    "papermill": {
     "duration": 1.97278,
     "end_time": "2024-07-10T10:20:37.959168",
     "exception": false,
     "start_time": "2024-07-10T10:20:35.986388",
     "status": "completed"
    },
    "tags": []
   },
   "outputs": [
    {
     "data": {
      "text/html": [
       "<style>#sk-container-id-1 {color: black;background-color: white;}#sk-container-id-1 pre{padding: 0;}#sk-container-id-1 div.sk-toggleable {background-color: white;}#sk-container-id-1 label.sk-toggleable__label {cursor: pointer;display: block;width: 100%;margin-bottom: 0;padding: 0.3em;box-sizing: border-box;text-align: center;}#sk-container-id-1 label.sk-toggleable__label-arrow:before {content: \"▸\";float: left;margin-right: 0.25em;color: #696969;}#sk-container-id-1 label.sk-toggleable__label-arrow:hover:before {color: black;}#sk-container-id-1 div.sk-estimator:hover label.sk-toggleable__label-arrow:before {color: black;}#sk-container-id-1 div.sk-toggleable__content {max-height: 0;max-width: 0;overflow: hidden;text-align: left;background-color: #f0f8ff;}#sk-container-id-1 div.sk-toggleable__content pre {margin: 0.2em;color: black;border-radius: 0.25em;background-color: #f0f8ff;}#sk-container-id-1 input.sk-toggleable__control:checked~div.sk-toggleable__content {max-height: 200px;max-width: 100%;overflow: auto;}#sk-container-id-1 input.sk-toggleable__control:checked~label.sk-toggleable__label-arrow:before {content: \"▾\";}#sk-container-id-1 div.sk-estimator input.sk-toggleable__control:checked~label.sk-toggleable__label {background-color: #d4ebff;}#sk-container-id-1 div.sk-label input.sk-toggleable__control:checked~label.sk-toggleable__label {background-color: #d4ebff;}#sk-container-id-1 input.sk-hidden--visually {border: 0;clip: rect(1px 1px 1px 1px);clip: rect(1px, 1px, 1px, 1px);height: 1px;margin: -1px;overflow: hidden;padding: 0;position: absolute;width: 1px;}#sk-container-id-1 div.sk-estimator {font-family: monospace;background-color: #f0f8ff;border: 1px dotted black;border-radius: 0.25em;box-sizing: border-box;margin-bottom: 0.5em;}#sk-container-id-1 div.sk-estimator:hover {background-color: #d4ebff;}#sk-container-id-1 div.sk-parallel-item::after {content: \"\";width: 100%;border-bottom: 1px solid gray;flex-grow: 1;}#sk-container-id-1 div.sk-label:hover label.sk-toggleable__label {background-color: #d4ebff;}#sk-container-id-1 div.sk-serial::before {content: \"\";position: absolute;border-left: 1px solid gray;box-sizing: border-box;top: 0;bottom: 0;left: 50%;z-index: 0;}#sk-container-id-1 div.sk-serial {display: flex;flex-direction: column;align-items: center;background-color: white;padding-right: 0.2em;padding-left: 0.2em;position: relative;}#sk-container-id-1 div.sk-item {position: relative;z-index: 1;}#sk-container-id-1 div.sk-parallel {display: flex;align-items: stretch;justify-content: center;background-color: white;position: relative;}#sk-container-id-1 div.sk-item::before, #sk-container-id-1 div.sk-parallel-item::before {content: \"\";position: absolute;border-left: 1px solid gray;box-sizing: border-box;top: 0;bottom: 0;left: 50%;z-index: -1;}#sk-container-id-1 div.sk-parallel-item {display: flex;flex-direction: column;z-index: 1;position: relative;background-color: white;}#sk-container-id-1 div.sk-parallel-item:first-child::after {align-self: flex-end;width: 50%;}#sk-container-id-1 div.sk-parallel-item:last-child::after {align-self: flex-start;width: 50%;}#sk-container-id-1 div.sk-parallel-item:only-child::after {width: 0;}#sk-container-id-1 div.sk-dashed-wrapped {border: 1px dashed gray;margin: 0 0.4em 0.5em 0.4em;box-sizing: border-box;padding-bottom: 0.4em;background-color: white;}#sk-container-id-1 div.sk-label label {font-family: monospace;font-weight: bold;display: inline-block;line-height: 1.2em;}#sk-container-id-1 div.sk-label-container {text-align: center;}#sk-container-id-1 div.sk-container {/* jupyter's `normalize.less` sets `[hidden] { display: none; }` but bootstrap.min.css set `[hidden] { display: none !important; }` so we also need the `!important` here to be able to override the default hidden behavior on the sphinx rendered scikit-learn.org. See: https://github.com/scikit-learn/scikit-learn/issues/21755 */display: inline-block !important;position: relative;}#sk-container-id-1 div.sk-text-repr-fallback {display: none;}</style><div id=\"sk-container-id-1\" class=\"sk-top-container\"><div class=\"sk-text-repr-fallback\"><pre>RandomForestClassifier()</pre><b>In a Jupyter environment, please rerun this cell to show the HTML representation or trust the notebook. <br />On GitHub, the HTML representation is unable to render, please try loading this page with nbviewer.org.</b></div><div class=\"sk-container\" hidden><div class=\"sk-item\"><div class=\"sk-estimator sk-toggleable\"><input class=\"sk-toggleable__control sk-hidden--visually\" id=\"sk-estimator-id-1\" type=\"checkbox\" checked><label for=\"sk-estimator-id-1\" class=\"sk-toggleable__label sk-toggleable__label-arrow\">RandomForestClassifier</label><div class=\"sk-toggleable__content\"><pre>RandomForestClassifier()</pre></div></div></div></div></div>"
      ],
      "text/plain": [
       "RandomForestClassifier()"
      ]
     },
     "execution_count": 46,
     "metadata": {},
     "output_type": "execute_result"
    }
   ],
   "source": [
    "model = RandomForestClassifier()\n",
    "model.fit(x_train,y_train)"
   ]
  },
  {
   "cell_type": "code",
   "execution_count": 47,
   "id": "f204c9bf",
   "metadata": {
    "execution": {
     "iopub.execute_input": "2024-07-10T10:20:38.002801Z",
     "iopub.status.busy": "2024-07-10T10:20:38.002368Z",
     "iopub.status.idle": "2024-07-10T10:20:38.007632Z",
     "shell.execute_reply": "2024-07-10T10:20:38.006422Z"
    },
    "papermill": {
     "duration": 0.031113,
     "end_time": "2024-07-10T10:20:38.010102",
     "exception": false,
     "start_time": "2024-07-10T10:20:37.978989",
     "status": "completed"
    },
    "tags": []
   },
   "outputs": [],
   "source": [
    "from sklearn.metrics import confusion_matrix"
   ]
  },
  {
   "cell_type": "code",
   "execution_count": 48,
   "id": "140e1f8b",
   "metadata": {
    "execution": {
     "iopub.execute_input": "2024-07-10T10:20:38.051465Z",
     "iopub.status.busy": "2024-07-10T10:20:38.051067Z",
     "iopub.status.idle": "2024-07-10T10:20:38.092362Z",
     "shell.execute_reply": "2024-07-10T10:20:38.091261Z"
    },
    "papermill": {
     "duration": 0.065049,
     "end_time": "2024-07-10T10:20:38.094803",
     "exception": false,
     "start_time": "2024-07-10T10:20:38.029754",
     "status": "completed"
    },
    "tags": []
   },
   "outputs": [
    {
     "data": {
      "text/plain": [
       "0.895"
      ]
     },
     "execution_count": 48,
     "metadata": {},
     "output_type": "execute_result"
    }
   ],
   "source": [
    "model.score(x_test,y_test)"
   ]
  },
  {
   "cell_type": "code",
   "execution_count": 49,
   "id": "1a43efb6",
   "metadata": {
    "execution": {
     "iopub.execute_input": "2024-07-10T10:20:38.135923Z",
     "iopub.status.busy": "2024-07-10T10:20:38.135469Z",
     "iopub.status.idle": "2024-07-10T10:20:38.177707Z",
     "shell.execute_reply": "2024-07-10T10:20:38.176520Z"
    },
    "papermill": {
     "duration": 0.065752,
     "end_time": "2024-07-10T10:20:38.180236",
     "exception": false,
     "start_time": "2024-07-10T10:20:38.114484",
     "status": "completed"
    },
    "tags": []
   },
   "outputs": [
    {
     "data": {
      "text/plain": [
       "array([[  34,  160],\n",
       "       [   8, 1398]])"
      ]
     },
     "execution_count": 49,
     "metadata": {},
     "output_type": "execute_result"
    }
   ],
   "source": [
    "y_pred = model.predict(x_test)\n",
    "confusion_matrix(y_test,y_pred)"
   ]
  },
  {
   "cell_type": "code",
   "execution_count": 50,
   "id": "c424871e",
   "metadata": {
    "execution": {
     "iopub.execute_input": "2024-07-10T10:20:38.222742Z",
     "iopub.status.busy": "2024-07-10T10:20:38.222033Z",
     "iopub.status.idle": "2024-07-10T10:20:38.229227Z",
     "shell.execute_reply": "2024-07-10T10:20:38.227855Z"
    },
    "papermill": {
     "duration": 0.031188,
     "end_time": "2024-07-10T10:20:38.231749",
     "exception": false,
     "start_time": "2024-07-10T10:20:38.200561",
     "status": "completed"
    },
    "tags": []
   },
   "outputs": [],
   "source": [
    "from sklearn.metrics import classification_report"
   ]
  },
  {
   "cell_type": "code",
   "execution_count": 51,
   "id": "6373b532",
   "metadata": {
    "execution": {
     "iopub.execute_input": "2024-07-10T10:20:38.274836Z",
     "iopub.status.busy": "2024-07-10T10:20:38.274408Z",
     "iopub.status.idle": "2024-07-10T10:20:38.292292Z",
     "shell.execute_reply": "2024-07-10T10:20:38.291060Z"
    },
    "papermill": {
     "duration": 0.043499,
     "end_time": "2024-07-10T10:20:38.296087",
     "exception": false,
     "start_time": "2024-07-10T10:20:38.252588",
     "status": "completed"
    },
    "tags": []
   },
   "outputs": [
    {
     "data": {
      "text/plain": [
       "'              precision    recall  f1-score   support\\n\\n           0       0.81      0.18      0.29       194\\n           1       0.90      0.99      0.94      1406\\n\\n    accuracy                           0.90      1600\\n   macro avg       0.85      0.58      0.62      1600\\nweighted avg       0.89      0.90      0.86      1600\\n'"
      ]
     },
     "execution_count": 51,
     "metadata": {},
     "output_type": "execute_result"
    }
   ],
   "source": [
    "classification_report(y_test, y_pred)"
   ]
  },
  {
   "cell_type": "code",
   "execution_count": null,
   "id": "27d93c08",
   "metadata": {
    "papermill": {
     "duration": 0.021779,
     "end_time": "2024-07-10T10:20:38.338890",
     "exception": false,
     "start_time": "2024-07-10T10:20:38.317111",
     "status": "completed"
    },
    "tags": []
   },
   "outputs": [],
   "source": []
  }
 ],
 "metadata": {
  "kaggle": {
   "accelerator": "none",
   "dataSources": [
    {
     "datasetId": 5249362,
     "sourceId": 8742946,
     "sourceType": "datasetVersion"
    }
   ],
   "dockerImageVersionId": 30732,
   "isGpuEnabled": false,
   "isInternetEnabled": true,
   "language": "python",
   "sourceType": "notebook"
  },
  "kernelspec": {
   "display_name": "Python 3",
   "language": "python",
   "name": "python3"
  },
  "language_info": {
   "codemirror_mode": {
    "name": "ipython",
    "version": 3
   },
   "file_extension": ".py",
   "mimetype": "text/x-python",
   "name": "python",
   "nbconvert_exporter": "python",
   "pygments_lexer": "ipython3",
   "version": "3.10.13"
  },
  "papermill": {
   "default_parameters": {},
   "duration": 26.078063,
   "end_time": "2024-07-10T10:20:38.982313",
   "environment_variables": {},
   "exception": null,
   "input_path": "__notebook__.ipynb",
   "output_path": "__notebook__.ipynb",
   "parameters": {},
   "start_time": "2024-07-10T10:20:12.904250",
   "version": "2.5.0"
  }
 },
 "nbformat": 4,
 "nbformat_minor": 5
}
